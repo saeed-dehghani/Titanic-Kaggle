{
 "cells": [
  {
   "cell_type": "markdown",
   "metadata": {},
   "source": [
    "# Titanic Competition- Kaggle"
   ]
  },
  {
   "cell_type": "markdown",
   "metadata": {},
   "source": [
    "## By Saeed Dehghani"
   ]
  },
  {
   "cell_type": "code",
   "execution_count": 1,
   "metadata": {},
   "outputs": [],
   "source": [
    "import numpy as np\n",
    "import pandas as pd\n",
    "pd.options.display.float_format = \"{:.3f}\".format\n",
    "pd.set_option(\"max_columns\",None)\n",
    "import matplotlib.pyplot as plt\n",
    "import seaborn as sns\n",
    "import warnings\n",
    "warnings.filterwarnings(\"ignore\")"
   ]
  },
  {
   "cell_type": "code",
   "execution_count": 2,
   "metadata": {},
   "outputs": [],
   "source": [
    "# importing dataset\n",
    "data = pd.read_csv(\"train_titanic.csv\")\n",
    "submission = pd.read_csv(\"test_titanic.csv\")"
   ]
  },
  {
   "cell_type": "markdown",
   "metadata": {},
   "source": [
    "# Part1: Data Inspection"
   ]
  },
  {
   "cell_type": "code",
   "execution_count": 3,
   "metadata": {},
   "outputs": [
    {
     "data": {
      "text/html": [
       "<div>\n",
       "<style scoped>\n",
       "    .dataframe tbody tr th:only-of-type {\n",
       "        vertical-align: middle;\n",
       "    }\n",
       "\n",
       "    .dataframe tbody tr th {\n",
       "        vertical-align: top;\n",
       "    }\n",
       "\n",
       "    .dataframe thead th {\n",
       "        text-align: right;\n",
       "    }\n",
       "</style>\n",
       "<table border=\"1\" class=\"dataframe\">\n",
       "  <thead>\n",
       "    <tr style=\"text-align: right;\">\n",
       "      <th></th>\n",
       "      <th>PassengerId</th>\n",
       "      <th>Survived</th>\n",
       "      <th>Pclass</th>\n",
       "      <th>Name</th>\n",
       "      <th>Sex</th>\n",
       "      <th>Age</th>\n",
       "      <th>SibSp</th>\n",
       "      <th>Parch</th>\n",
       "      <th>Ticket</th>\n",
       "      <th>Fare</th>\n",
       "      <th>Cabin</th>\n",
       "      <th>Embarked</th>\n",
       "    </tr>\n",
       "  </thead>\n",
       "  <tbody>\n",
       "    <tr>\n",
       "      <th>0</th>\n",
       "      <td>1</td>\n",
       "      <td>0</td>\n",
       "      <td>3</td>\n",
       "      <td>Braund, Mr. Owen Harris</td>\n",
       "      <td>male</td>\n",
       "      <td>22.000</td>\n",
       "      <td>1</td>\n",
       "      <td>0</td>\n",
       "      <td>A/5 21171</td>\n",
       "      <td>7.250</td>\n",
       "      <td>NaN</td>\n",
       "      <td>S</td>\n",
       "    </tr>\n",
       "    <tr>\n",
       "      <th>1</th>\n",
       "      <td>2</td>\n",
       "      <td>1</td>\n",
       "      <td>1</td>\n",
       "      <td>Cumings, Mrs. John Bradley (Florence Briggs Th...</td>\n",
       "      <td>female</td>\n",
       "      <td>38.000</td>\n",
       "      <td>1</td>\n",
       "      <td>0</td>\n",
       "      <td>PC 17599</td>\n",
       "      <td>71.283</td>\n",
       "      <td>C85</td>\n",
       "      <td>C</td>\n",
       "    </tr>\n",
       "    <tr>\n",
       "      <th>2</th>\n",
       "      <td>3</td>\n",
       "      <td>1</td>\n",
       "      <td>3</td>\n",
       "      <td>Heikkinen, Miss. Laina</td>\n",
       "      <td>female</td>\n",
       "      <td>26.000</td>\n",
       "      <td>0</td>\n",
       "      <td>0</td>\n",
       "      <td>STON/O2. 3101282</td>\n",
       "      <td>7.925</td>\n",
       "      <td>NaN</td>\n",
       "      <td>S</td>\n",
       "    </tr>\n",
       "    <tr>\n",
       "      <th>3</th>\n",
       "      <td>4</td>\n",
       "      <td>1</td>\n",
       "      <td>1</td>\n",
       "      <td>Futrelle, Mrs. Jacques Heath (Lily May Peel)</td>\n",
       "      <td>female</td>\n",
       "      <td>35.000</td>\n",
       "      <td>1</td>\n",
       "      <td>0</td>\n",
       "      <td>113803</td>\n",
       "      <td>53.100</td>\n",
       "      <td>C123</td>\n",
       "      <td>S</td>\n",
       "    </tr>\n",
       "    <tr>\n",
       "      <th>4</th>\n",
       "      <td>5</td>\n",
       "      <td>0</td>\n",
       "      <td>3</td>\n",
       "      <td>Allen, Mr. William Henry</td>\n",
       "      <td>male</td>\n",
       "      <td>35.000</td>\n",
       "      <td>0</td>\n",
       "      <td>0</td>\n",
       "      <td>373450</td>\n",
       "      <td>8.050</td>\n",
       "      <td>NaN</td>\n",
       "      <td>S</td>\n",
       "    </tr>\n",
       "  </tbody>\n",
       "</table>\n",
       "</div>"
      ],
      "text/plain": [
       "   PassengerId  Survived  Pclass  \\\n",
       "0            1         0       3   \n",
       "1            2         1       1   \n",
       "2            3         1       3   \n",
       "3            4         1       1   \n",
       "4            5         0       3   \n",
       "\n",
       "                                                Name     Sex    Age  SibSp  \\\n",
       "0                            Braund, Mr. Owen Harris    male 22.000      1   \n",
       "1  Cumings, Mrs. John Bradley (Florence Briggs Th...  female 38.000      1   \n",
       "2                             Heikkinen, Miss. Laina  female 26.000      0   \n",
       "3       Futrelle, Mrs. Jacques Heath (Lily May Peel)  female 35.000      1   \n",
       "4                           Allen, Mr. William Henry    male 35.000      0   \n",
       "\n",
       "   Parch            Ticket   Fare Cabin Embarked  \n",
       "0      0         A/5 21171  7.250   NaN        S  \n",
       "1      0          PC 17599 71.283   C85        C  \n",
       "2      0  STON/O2. 3101282  7.925   NaN        S  \n",
       "3      0            113803 53.100  C123        S  \n",
       "4      0            373450  8.050   NaN        S  "
      ]
     },
     "execution_count": 3,
     "metadata": {},
     "output_type": "execute_result"
    }
   ],
   "source": [
    "data.head()"
   ]
  },
  {
   "cell_type": "code",
   "execution_count": 4,
   "metadata": {},
   "outputs": [
    {
     "data": {
      "text/html": [
       "<div>\n",
       "<style scoped>\n",
       "    .dataframe tbody tr th:only-of-type {\n",
       "        vertical-align: middle;\n",
       "    }\n",
       "\n",
       "    .dataframe tbody tr th {\n",
       "        vertical-align: top;\n",
       "    }\n",
       "\n",
       "    .dataframe thead th {\n",
       "        text-align: right;\n",
       "    }\n",
       "</style>\n",
       "<table border=\"1\" class=\"dataframe\">\n",
       "  <thead>\n",
       "    <tr style=\"text-align: right;\">\n",
       "      <th></th>\n",
       "      <th>PassengerId</th>\n",
       "      <th>Survived</th>\n",
       "      <th>Pclass</th>\n",
       "      <th>Name</th>\n",
       "      <th>Sex</th>\n",
       "      <th>Age</th>\n",
       "      <th>SibSp</th>\n",
       "      <th>Parch</th>\n",
       "      <th>Ticket</th>\n",
       "      <th>Fare</th>\n",
       "      <th>Cabin</th>\n",
       "      <th>Embarked</th>\n",
       "    </tr>\n",
       "  </thead>\n",
       "  <tbody>\n",
       "    <tr>\n",
       "      <th>886</th>\n",
       "      <td>887</td>\n",
       "      <td>0</td>\n",
       "      <td>2</td>\n",
       "      <td>Montvila, Rev. Juozas</td>\n",
       "      <td>male</td>\n",
       "      <td>27.000</td>\n",
       "      <td>0</td>\n",
       "      <td>0</td>\n",
       "      <td>211536</td>\n",
       "      <td>13.000</td>\n",
       "      <td>NaN</td>\n",
       "      <td>S</td>\n",
       "    </tr>\n",
       "    <tr>\n",
       "      <th>887</th>\n",
       "      <td>888</td>\n",
       "      <td>1</td>\n",
       "      <td>1</td>\n",
       "      <td>Graham, Miss. Margaret Edith</td>\n",
       "      <td>female</td>\n",
       "      <td>19.000</td>\n",
       "      <td>0</td>\n",
       "      <td>0</td>\n",
       "      <td>112053</td>\n",
       "      <td>30.000</td>\n",
       "      <td>B42</td>\n",
       "      <td>S</td>\n",
       "    </tr>\n",
       "    <tr>\n",
       "      <th>888</th>\n",
       "      <td>889</td>\n",
       "      <td>0</td>\n",
       "      <td>3</td>\n",
       "      <td>Johnston, Miss. Catherine Helen \"Carrie\"</td>\n",
       "      <td>female</td>\n",
       "      <td>NaN</td>\n",
       "      <td>1</td>\n",
       "      <td>2</td>\n",
       "      <td>W./C. 6607</td>\n",
       "      <td>23.450</td>\n",
       "      <td>NaN</td>\n",
       "      <td>S</td>\n",
       "    </tr>\n",
       "    <tr>\n",
       "      <th>889</th>\n",
       "      <td>890</td>\n",
       "      <td>1</td>\n",
       "      <td>1</td>\n",
       "      <td>Behr, Mr. Karl Howell</td>\n",
       "      <td>male</td>\n",
       "      <td>26.000</td>\n",
       "      <td>0</td>\n",
       "      <td>0</td>\n",
       "      <td>111369</td>\n",
       "      <td>30.000</td>\n",
       "      <td>C148</td>\n",
       "      <td>C</td>\n",
       "    </tr>\n",
       "    <tr>\n",
       "      <th>890</th>\n",
       "      <td>891</td>\n",
       "      <td>0</td>\n",
       "      <td>3</td>\n",
       "      <td>Dooley, Mr. Patrick</td>\n",
       "      <td>male</td>\n",
       "      <td>32.000</td>\n",
       "      <td>0</td>\n",
       "      <td>0</td>\n",
       "      <td>370376</td>\n",
       "      <td>7.750</td>\n",
       "      <td>NaN</td>\n",
       "      <td>Q</td>\n",
       "    </tr>\n",
       "  </tbody>\n",
       "</table>\n",
       "</div>"
      ],
      "text/plain": [
       "     PassengerId  Survived  Pclass                                      Name  \\\n",
       "886          887         0       2                     Montvila, Rev. Juozas   \n",
       "887          888         1       1              Graham, Miss. Margaret Edith   \n",
       "888          889         0       3  Johnston, Miss. Catherine Helen \"Carrie\"   \n",
       "889          890         1       1                     Behr, Mr. Karl Howell   \n",
       "890          891         0       3                       Dooley, Mr. Patrick   \n",
       "\n",
       "        Sex    Age  SibSp  Parch      Ticket   Fare Cabin Embarked  \n",
       "886    male 27.000      0      0      211536 13.000   NaN        S  \n",
       "887  female 19.000      0      0      112053 30.000   B42        S  \n",
       "888  female    NaN      1      2  W./C. 6607 23.450   NaN        S  \n",
       "889    male 26.000      0      0      111369 30.000  C148        C  \n",
       "890    male 32.000      0      0      370376  7.750   NaN        Q  "
      ]
     },
     "execution_count": 4,
     "metadata": {},
     "output_type": "execute_result"
    }
   ],
   "source": [
    "data.tail()"
   ]
  },
  {
   "cell_type": "code",
   "execution_count": 5,
   "metadata": {},
   "outputs": [
    {
     "data": {
      "text/plain": [
       "(891, 12)"
      ]
     },
     "execution_count": 5,
     "metadata": {},
     "output_type": "execute_result"
    }
   ],
   "source": [
    "data.shape"
   ]
  },
  {
   "cell_type": "code",
   "execution_count": 6,
   "metadata": {},
   "outputs": [
    {
     "data": {
      "text/plain": [
       "True"
      ]
     },
     "execution_count": 6,
     "metadata": {},
     "output_type": "execute_result"
    }
   ],
   "source": [
    "data.isna().any().any()"
   ]
  },
  {
   "cell_type": "code",
   "execution_count": 7,
   "metadata": {},
   "outputs": [
    {
     "data": {
      "text/html": [
       "<div>\n",
       "<style scoped>\n",
       "    .dataframe tbody tr th:only-of-type {\n",
       "        vertical-align: middle;\n",
       "    }\n",
       "\n",
       "    .dataframe tbody tr th {\n",
       "        vertical-align: top;\n",
       "    }\n",
       "\n",
       "    .dataframe thead th {\n",
       "        text-align: right;\n",
       "    }\n",
       "</style>\n",
       "<table border=\"1\" class=\"dataframe\">\n",
       "  <thead>\n",
       "    <tr style=\"text-align: right;\">\n",
       "      <th></th>\n",
       "      <th>PassengerId</th>\n",
       "      <th>Pclass</th>\n",
       "      <th>Name</th>\n",
       "      <th>Sex</th>\n",
       "      <th>Age</th>\n",
       "      <th>SibSp</th>\n",
       "      <th>Parch</th>\n",
       "      <th>Ticket</th>\n",
       "      <th>Fare</th>\n",
       "      <th>Cabin</th>\n",
       "      <th>Embarked</th>\n",
       "    </tr>\n",
       "  </thead>\n",
       "  <tbody>\n",
       "    <tr>\n",
       "      <th>0</th>\n",
       "      <td>892</td>\n",
       "      <td>3</td>\n",
       "      <td>Kelly, Mr. James</td>\n",
       "      <td>male</td>\n",
       "      <td>34.500</td>\n",
       "      <td>0</td>\n",
       "      <td>0</td>\n",
       "      <td>330911</td>\n",
       "      <td>7.829</td>\n",
       "      <td>NaN</td>\n",
       "      <td>Q</td>\n",
       "    </tr>\n",
       "    <tr>\n",
       "      <th>1</th>\n",
       "      <td>893</td>\n",
       "      <td>3</td>\n",
       "      <td>Wilkes, Mrs. James (Ellen Needs)</td>\n",
       "      <td>female</td>\n",
       "      <td>47.000</td>\n",
       "      <td>1</td>\n",
       "      <td>0</td>\n",
       "      <td>363272</td>\n",
       "      <td>7.000</td>\n",
       "      <td>NaN</td>\n",
       "      <td>S</td>\n",
       "    </tr>\n",
       "    <tr>\n",
       "      <th>2</th>\n",
       "      <td>894</td>\n",
       "      <td>2</td>\n",
       "      <td>Myles, Mr. Thomas Francis</td>\n",
       "      <td>male</td>\n",
       "      <td>62.000</td>\n",
       "      <td>0</td>\n",
       "      <td>0</td>\n",
       "      <td>240276</td>\n",
       "      <td>9.688</td>\n",
       "      <td>NaN</td>\n",
       "      <td>Q</td>\n",
       "    </tr>\n",
       "    <tr>\n",
       "      <th>3</th>\n",
       "      <td>895</td>\n",
       "      <td>3</td>\n",
       "      <td>Wirz, Mr. Albert</td>\n",
       "      <td>male</td>\n",
       "      <td>27.000</td>\n",
       "      <td>0</td>\n",
       "      <td>0</td>\n",
       "      <td>315154</td>\n",
       "      <td>8.662</td>\n",
       "      <td>NaN</td>\n",
       "      <td>S</td>\n",
       "    </tr>\n",
       "    <tr>\n",
       "      <th>4</th>\n",
       "      <td>896</td>\n",
       "      <td>3</td>\n",
       "      <td>Hirvonen, Mrs. Alexander (Helga E Lindqvist)</td>\n",
       "      <td>female</td>\n",
       "      <td>22.000</td>\n",
       "      <td>1</td>\n",
       "      <td>1</td>\n",
       "      <td>3101298</td>\n",
       "      <td>12.287</td>\n",
       "      <td>NaN</td>\n",
       "      <td>S</td>\n",
       "    </tr>\n",
       "  </tbody>\n",
       "</table>\n",
       "</div>"
      ],
      "text/plain": [
       "   PassengerId  Pclass                                          Name     Sex  \\\n",
       "0          892       3                              Kelly, Mr. James    male   \n",
       "1          893       3              Wilkes, Mrs. James (Ellen Needs)  female   \n",
       "2          894       2                     Myles, Mr. Thomas Francis    male   \n",
       "3          895       3                              Wirz, Mr. Albert    male   \n",
       "4          896       3  Hirvonen, Mrs. Alexander (Helga E Lindqvist)  female   \n",
       "\n",
       "     Age  SibSp  Parch   Ticket   Fare Cabin Embarked  \n",
       "0 34.500      0      0   330911  7.829   NaN        Q  \n",
       "1 47.000      1      0   363272  7.000   NaN        S  \n",
       "2 62.000      0      0   240276  9.688   NaN        Q  \n",
       "3 27.000      0      0   315154  8.662   NaN        S  \n",
       "4 22.000      1      1  3101298 12.287   NaN        S  "
      ]
     },
     "execution_count": 7,
     "metadata": {},
     "output_type": "execute_result"
    }
   ],
   "source": [
    "# this dataset contains exactly the same variables, but not the target(Survived)\n",
    "submission.head()"
   ]
  },
  {
   "cell_type": "code",
   "execution_count": 8,
   "metadata": {},
   "outputs": [
    {
     "data": {
      "text/html": [
       "<div>\n",
       "<style scoped>\n",
       "    .dataframe tbody tr th:only-of-type {\n",
       "        vertical-align: middle;\n",
       "    }\n",
       "\n",
       "    .dataframe tbody tr th {\n",
       "        vertical-align: top;\n",
       "    }\n",
       "\n",
       "    .dataframe thead th {\n",
       "        text-align: right;\n",
       "    }\n",
       "</style>\n",
       "<table border=\"1\" class=\"dataframe\">\n",
       "  <thead>\n",
       "    <tr style=\"text-align: right;\">\n",
       "      <th></th>\n",
       "      <th>PassengerId</th>\n",
       "      <th>Pclass</th>\n",
       "      <th>Name</th>\n",
       "      <th>Sex</th>\n",
       "      <th>Age</th>\n",
       "      <th>SibSp</th>\n",
       "      <th>Parch</th>\n",
       "      <th>Ticket</th>\n",
       "      <th>Fare</th>\n",
       "      <th>Cabin</th>\n",
       "      <th>Embarked</th>\n",
       "    </tr>\n",
       "  </thead>\n",
       "  <tbody>\n",
       "    <tr>\n",
       "      <th>413</th>\n",
       "      <td>1305</td>\n",
       "      <td>3</td>\n",
       "      <td>Spector, Mr. Woolf</td>\n",
       "      <td>male</td>\n",
       "      <td>NaN</td>\n",
       "      <td>0</td>\n",
       "      <td>0</td>\n",
       "      <td>A.5. 3236</td>\n",
       "      <td>8.050</td>\n",
       "      <td>NaN</td>\n",
       "      <td>S</td>\n",
       "    </tr>\n",
       "    <tr>\n",
       "      <th>414</th>\n",
       "      <td>1306</td>\n",
       "      <td>1</td>\n",
       "      <td>Oliva y Ocana, Dona. Fermina</td>\n",
       "      <td>female</td>\n",
       "      <td>39.000</td>\n",
       "      <td>0</td>\n",
       "      <td>0</td>\n",
       "      <td>PC 17758</td>\n",
       "      <td>108.900</td>\n",
       "      <td>C105</td>\n",
       "      <td>C</td>\n",
       "    </tr>\n",
       "    <tr>\n",
       "      <th>415</th>\n",
       "      <td>1307</td>\n",
       "      <td>3</td>\n",
       "      <td>Saether, Mr. Simon Sivertsen</td>\n",
       "      <td>male</td>\n",
       "      <td>38.500</td>\n",
       "      <td>0</td>\n",
       "      <td>0</td>\n",
       "      <td>SOTON/O.Q. 3101262</td>\n",
       "      <td>7.250</td>\n",
       "      <td>NaN</td>\n",
       "      <td>S</td>\n",
       "    </tr>\n",
       "    <tr>\n",
       "      <th>416</th>\n",
       "      <td>1308</td>\n",
       "      <td>3</td>\n",
       "      <td>Ware, Mr. Frederick</td>\n",
       "      <td>male</td>\n",
       "      <td>NaN</td>\n",
       "      <td>0</td>\n",
       "      <td>0</td>\n",
       "      <td>359309</td>\n",
       "      <td>8.050</td>\n",
       "      <td>NaN</td>\n",
       "      <td>S</td>\n",
       "    </tr>\n",
       "    <tr>\n",
       "      <th>417</th>\n",
       "      <td>1309</td>\n",
       "      <td>3</td>\n",
       "      <td>Peter, Master. Michael J</td>\n",
       "      <td>male</td>\n",
       "      <td>NaN</td>\n",
       "      <td>1</td>\n",
       "      <td>1</td>\n",
       "      <td>2668</td>\n",
       "      <td>22.358</td>\n",
       "      <td>NaN</td>\n",
       "      <td>C</td>\n",
       "    </tr>\n",
       "  </tbody>\n",
       "</table>\n",
       "</div>"
      ],
      "text/plain": [
       "     PassengerId  Pclass                          Name     Sex    Age  SibSp  \\\n",
       "413         1305       3            Spector, Mr. Woolf    male    NaN      0   \n",
       "414         1306       1  Oliva y Ocana, Dona. Fermina  female 39.000      0   \n",
       "415         1307       3  Saether, Mr. Simon Sivertsen    male 38.500      0   \n",
       "416         1308       3           Ware, Mr. Frederick    male    NaN      0   \n",
       "417         1309       3      Peter, Master. Michael J    male    NaN      1   \n",
       "\n",
       "     Parch              Ticket    Fare Cabin Embarked  \n",
       "413      0           A.5. 3236   8.050   NaN        S  \n",
       "414      0            PC 17758 108.900  C105        C  \n",
       "415      0  SOTON/O.Q. 3101262   7.250   NaN        S  \n",
       "416      0              359309   8.050   NaN        S  \n",
       "417      1                2668  22.358   NaN        C  "
      ]
     },
     "execution_count": 8,
     "metadata": {},
     "output_type": "execute_result"
    }
   ],
   "source": [
    "submission.tail()"
   ]
  },
  {
   "cell_type": "code",
   "execution_count": 9,
   "metadata": {},
   "outputs": [
    {
     "data": {
      "text/plain": [
       "(418, 11)"
      ]
     },
     "execution_count": 9,
     "metadata": {},
     "output_type": "execute_result"
    }
   ],
   "source": [
    "submission.shape"
   ]
  },
  {
   "cell_type": "code",
   "execution_count": 10,
   "metadata": {},
   "outputs": [
    {
     "data": {
      "text/plain": [
       "True"
      ]
     },
     "execution_count": 10,
     "metadata": {},
     "output_type": "execute_result"
    }
   ],
   "source": [
    "submission.isna().any().any()"
   ]
  },
  {
   "cell_type": "markdown",
   "metadata": {},
   "source": [
    "**Variables Discription**"
   ]
  },
  {
   "cell_type": "raw",
   "metadata": {},
   "source": [
    "Variable\t       Definition\t                                   Key\n",
    "\n",
    "survival\t       Survival\t                                   0 = No, 1 = Yes\n",
    "\n",
    "pclass\t           Ticket class\t                               1 = 1st, 2 = 2nd, 3 = 3rd\n",
    "\n",
    "sex\t               Sex\t\n",
    "\n",
    "Age\t               Age in years\t\n",
    "\n",
    "sibsp\t           # of siblings / spouses aboard the Titanic\t\n",
    "\n",
    "parch\t           # of parents / children aboard the Titanic\t\n",
    "\n",
    "ticket\t           Ticket number\t\n",
    "\n",
    "fare\t           Passenger fare\t\n",
    "\n",
    "cabin\t           Cabin number\t\n",
    "\n",
    "embarked\t       Port of Embarkation\t                       C = Cherbourg, Q = Queenstown, S = Southampton"
   ]
  },
  {
   "cell_type": "code",
   "execution_count": 11,
   "metadata": {},
   "outputs": [
    {
     "name": "stdout",
     "output_type": "stream",
     "text": [
      "<class 'pandas.core.frame.DataFrame'>\n",
      "RangeIndex: 891 entries, 0 to 890\n",
      "Data columns (total 12 columns):\n",
      " #   Column       Non-Null Count  Dtype  \n",
      "---  ------       --------------  -----  \n",
      " 0   PassengerId  891 non-null    int64  \n",
      " 1   Survived     891 non-null    int64  \n",
      " 2   Pclass       891 non-null    int64  \n",
      " 3   Name         891 non-null    object \n",
      " 4   Sex          891 non-null    object \n",
      " 5   Age          714 non-null    float64\n",
      " 6   SibSp        891 non-null    int64  \n",
      " 7   Parch        891 non-null    int64  \n",
      " 8   Ticket       891 non-null    object \n",
      " 9   Fare         891 non-null    float64\n",
      " 10  Cabin        204 non-null    object \n",
      " 11  Embarked     889 non-null    object \n",
      "dtypes: float64(2), int64(5), object(5)\n",
      "memory usage: 83.7+ KB\n"
     ]
    }
   ],
   "source": [
    "data.info()"
   ]
  },
  {
   "cell_type": "code",
   "execution_count": 12,
   "metadata": {},
   "outputs": [
    {
     "name": "stdout",
     "output_type": "stream",
     "text": [
      "<class 'pandas.core.frame.DataFrame'>\n",
      "RangeIndex: 418 entries, 0 to 417\n",
      "Data columns (total 11 columns):\n",
      " #   Column       Non-Null Count  Dtype  \n",
      "---  ------       --------------  -----  \n",
      " 0   PassengerId  418 non-null    int64  \n",
      " 1   Pclass       418 non-null    int64  \n",
      " 2   Name         418 non-null    object \n",
      " 3   Sex          418 non-null    object \n",
      " 4   Age          332 non-null    float64\n",
      " 5   SibSp        418 non-null    int64  \n",
      " 6   Parch        418 non-null    int64  \n",
      " 7   Ticket       418 non-null    object \n",
      " 8   Fare         417 non-null    float64\n",
      " 9   Cabin        91 non-null     object \n",
      " 10  Embarked     418 non-null    object \n",
      "dtypes: float64(2), int64(4), object(5)\n",
      "memory usage: 36.0+ KB\n"
     ]
    }
   ],
   "source": [
    "submission.info()"
   ]
  },
  {
   "cell_type": "code",
   "execution_count": 13,
   "metadata": {},
   "outputs": [
    {
     "data": {
      "text/html": [
       "<div>\n",
       "<style scoped>\n",
       "    .dataframe tbody tr th:only-of-type {\n",
       "        vertical-align: middle;\n",
       "    }\n",
       "\n",
       "    .dataframe tbody tr th {\n",
       "        vertical-align: top;\n",
       "    }\n",
       "\n",
       "    .dataframe thead th {\n",
       "        text-align: right;\n",
       "    }\n",
       "</style>\n",
       "<table border=\"1\" class=\"dataframe\">\n",
       "  <thead>\n",
       "    <tr style=\"text-align: right;\">\n",
       "      <th></th>\n",
       "      <th>PassengerId</th>\n",
       "      <th>Survived</th>\n",
       "      <th>Pclass</th>\n",
       "      <th>Age</th>\n",
       "      <th>SibSp</th>\n",
       "      <th>Parch</th>\n",
       "      <th>Fare</th>\n",
       "    </tr>\n",
       "  </thead>\n",
       "  <tbody>\n",
       "    <tr>\n",
       "      <th>count</th>\n",
       "      <td>891.000</td>\n",
       "      <td>891.000</td>\n",
       "      <td>891.000</td>\n",
       "      <td>714.000</td>\n",
       "      <td>891.000</td>\n",
       "      <td>891.000</td>\n",
       "      <td>891.000</td>\n",
       "    </tr>\n",
       "    <tr>\n",
       "      <th>mean</th>\n",
       "      <td>446.000</td>\n",
       "      <td>0.384</td>\n",
       "      <td>2.309</td>\n",
       "      <td>29.699</td>\n",
       "      <td>0.523</td>\n",
       "      <td>0.382</td>\n",
       "      <td>32.204</td>\n",
       "    </tr>\n",
       "    <tr>\n",
       "      <th>std</th>\n",
       "      <td>257.354</td>\n",
       "      <td>0.487</td>\n",
       "      <td>0.836</td>\n",
       "      <td>14.526</td>\n",
       "      <td>1.103</td>\n",
       "      <td>0.806</td>\n",
       "      <td>49.693</td>\n",
       "    </tr>\n",
       "    <tr>\n",
       "      <th>min</th>\n",
       "      <td>1.000</td>\n",
       "      <td>0.000</td>\n",
       "      <td>1.000</td>\n",
       "      <td>0.420</td>\n",
       "      <td>0.000</td>\n",
       "      <td>0.000</td>\n",
       "      <td>0.000</td>\n",
       "    </tr>\n",
       "    <tr>\n",
       "      <th>25%</th>\n",
       "      <td>223.500</td>\n",
       "      <td>0.000</td>\n",
       "      <td>2.000</td>\n",
       "      <td>20.125</td>\n",
       "      <td>0.000</td>\n",
       "      <td>0.000</td>\n",
       "      <td>7.910</td>\n",
       "    </tr>\n",
       "    <tr>\n",
       "      <th>50%</th>\n",
       "      <td>446.000</td>\n",
       "      <td>0.000</td>\n",
       "      <td>3.000</td>\n",
       "      <td>28.000</td>\n",
       "      <td>0.000</td>\n",
       "      <td>0.000</td>\n",
       "      <td>14.454</td>\n",
       "    </tr>\n",
       "    <tr>\n",
       "      <th>75%</th>\n",
       "      <td>668.500</td>\n",
       "      <td>1.000</td>\n",
       "      <td>3.000</td>\n",
       "      <td>38.000</td>\n",
       "      <td>1.000</td>\n",
       "      <td>0.000</td>\n",
       "      <td>31.000</td>\n",
       "    </tr>\n",
       "    <tr>\n",
       "      <th>max</th>\n",
       "      <td>891.000</td>\n",
       "      <td>1.000</td>\n",
       "      <td>3.000</td>\n",
       "      <td>80.000</td>\n",
       "      <td>8.000</td>\n",
       "      <td>6.000</td>\n",
       "      <td>512.329</td>\n",
       "    </tr>\n",
       "  </tbody>\n",
       "</table>\n",
       "</div>"
      ],
      "text/plain": [
       "       PassengerId  Survived  Pclass     Age   SibSp   Parch    Fare\n",
       "count      891.000   891.000 891.000 714.000 891.000 891.000 891.000\n",
       "mean       446.000     0.384   2.309  29.699   0.523   0.382  32.204\n",
       "std        257.354     0.487   0.836  14.526   1.103   0.806  49.693\n",
       "min          1.000     0.000   1.000   0.420   0.000   0.000   0.000\n",
       "25%        223.500     0.000   2.000  20.125   0.000   0.000   7.910\n",
       "50%        446.000     0.000   3.000  28.000   0.000   0.000  14.454\n",
       "75%        668.500     1.000   3.000  38.000   1.000   0.000  31.000\n",
       "max        891.000     1.000   3.000  80.000   8.000   6.000 512.329"
      ]
     },
     "execution_count": 13,
     "metadata": {},
     "output_type": "execute_result"
    }
   ],
   "source": [
    "data.describe()"
   ]
  },
  {
   "cell_type": "markdown",
   "metadata": {},
   "source": [
    "- there are missing value in both dataset\n",
    "\n",
    "\n",
    "- we have categorical and numerical variables"
   ]
  },
  {
   "cell_type": "markdown",
   "metadata": {},
   "source": [
    "### check all variables (numerical & categorical)"
   ]
  },
  {
   "cell_type": "markdown",
   "metadata": {},
   "source": [
    "#### Categorical"
   ]
  },
  {
   "cell_type": "code",
   "execution_count": 14,
   "metadata": {},
   "outputs": [
    {
     "name": "stdout",
     "output_type": "stream",
     "text": [
      "There are 5 categorical variables\n"
     ]
    }
   ],
   "source": [
    "# check categorical variables\n",
    "categorical = [var for var in data.columns if data[var].dtype==\"O\"]\n",
    "print(\"There are {} categorical variables\".format(len(categorical)))"
   ]
  },
  {
   "cell_type": "code",
   "execution_count": 15,
   "metadata": {},
   "outputs": [
    {
     "data": {
      "text/html": [
       "<div>\n",
       "<style scoped>\n",
       "    .dataframe tbody tr th:only-of-type {\n",
       "        vertical-align: middle;\n",
       "    }\n",
       "\n",
       "    .dataframe tbody tr th {\n",
       "        vertical-align: top;\n",
       "    }\n",
       "\n",
       "    .dataframe thead th {\n",
       "        text-align: right;\n",
       "    }\n",
       "</style>\n",
       "<table border=\"1\" class=\"dataframe\">\n",
       "  <thead>\n",
       "    <tr style=\"text-align: right;\">\n",
       "      <th></th>\n",
       "      <th>Name</th>\n",
       "      <th>Sex</th>\n",
       "      <th>Ticket</th>\n",
       "      <th>Cabin</th>\n",
       "      <th>Embarked</th>\n",
       "    </tr>\n",
       "  </thead>\n",
       "  <tbody>\n",
       "    <tr>\n",
       "      <th>0</th>\n",
       "      <td>Braund, Mr. Owen Harris</td>\n",
       "      <td>male</td>\n",
       "      <td>A/5 21171</td>\n",
       "      <td>NaN</td>\n",
       "      <td>S</td>\n",
       "    </tr>\n",
       "    <tr>\n",
       "      <th>1</th>\n",
       "      <td>Cumings, Mrs. John Bradley (Florence Briggs Th...</td>\n",
       "      <td>female</td>\n",
       "      <td>PC 17599</td>\n",
       "      <td>C85</td>\n",
       "      <td>C</td>\n",
       "    </tr>\n",
       "    <tr>\n",
       "      <th>2</th>\n",
       "      <td>Heikkinen, Miss. Laina</td>\n",
       "      <td>female</td>\n",
       "      <td>STON/O2. 3101282</td>\n",
       "      <td>NaN</td>\n",
       "      <td>S</td>\n",
       "    </tr>\n",
       "    <tr>\n",
       "      <th>3</th>\n",
       "      <td>Futrelle, Mrs. Jacques Heath (Lily May Peel)</td>\n",
       "      <td>female</td>\n",
       "      <td>113803</td>\n",
       "      <td>C123</td>\n",
       "      <td>S</td>\n",
       "    </tr>\n",
       "    <tr>\n",
       "      <th>4</th>\n",
       "      <td>Allen, Mr. William Henry</td>\n",
       "      <td>male</td>\n",
       "      <td>373450</td>\n",
       "      <td>NaN</td>\n",
       "      <td>S</td>\n",
       "    </tr>\n",
       "  </tbody>\n",
       "</table>\n",
       "</div>"
      ],
      "text/plain": [
       "                                                Name     Sex  \\\n",
       "0                            Braund, Mr. Owen Harris    male   \n",
       "1  Cumings, Mrs. John Bradley (Florence Briggs Th...  female   \n",
       "2                             Heikkinen, Miss. Laina  female   \n",
       "3       Futrelle, Mrs. Jacques Heath (Lily May Peel)  female   \n",
       "4                           Allen, Mr. William Henry    male   \n",
       "\n",
       "             Ticket Cabin Embarked  \n",
       "0         A/5 21171   NaN        S  \n",
       "1          PC 17599   C85        C  \n",
       "2  STON/O2. 3101282   NaN        S  \n",
       "3            113803  C123        S  \n",
       "4            373450   NaN        S  "
      ]
     },
     "execution_count": 15,
     "metadata": {},
     "output_type": "execute_result"
    }
   ],
   "source": [
    "data[categorical].head()"
   ]
  },
  {
   "cell_type": "code",
   "execution_count": 16,
   "metadata": {},
   "outputs": [
    {
     "data": {
      "text/plain": [
       "Name        891\n",
       "Sex           2\n",
       "Ticket      681\n",
       "Cabin       148\n",
       "Embarked      4\n",
       "dtype: int64"
      ]
     },
     "execution_count": 16,
     "metadata": {},
     "output_type": "execute_result"
    }
   ],
   "source": [
    "# check Number of categories(labels) in categorical variables\n",
    "data[categorical].apply(lambda x: len(x.unique()))"
   ]
  },
  {
   "cell_type": "markdown",
   "metadata": {},
   "source": [
    "- we have 2 mixed variables. **Cabin and Ticket**\n",
    "\n",
    "\n",
    "- Name,Ticket and Cabin contain a lot of labels.before to split datatset, i try some manual preprocessing for those variables.\n",
    "\n",
    "\n",
    "- better to extract the numerical part and then the non-numerical part and generate 2 variables out of them."
   ]
  },
  {
   "cell_type": "markdown",
   "metadata": {},
   "source": [
    "#### Numerical "
   ]
  },
  {
   "cell_type": "code",
   "execution_count": 17,
   "metadata": {},
   "outputs": [
    {
     "name": "stdout",
     "output_type": "stream",
     "text": [
      "There are 7 numerical variables\n"
     ]
    }
   ],
   "source": [
    "# check numerical variables \n",
    "numerical = [var for var in data.columns if data[var].dtype!=\"O\"]\n",
    "print(\"There are {} numerical variables\".format(len(numerical)))"
   ]
  },
  {
   "cell_type": "code",
   "execution_count": 18,
   "metadata": {},
   "outputs": [
    {
     "data": {
      "text/html": [
       "<div>\n",
       "<style scoped>\n",
       "    .dataframe tbody tr th:only-of-type {\n",
       "        vertical-align: middle;\n",
       "    }\n",
       "\n",
       "    .dataframe tbody tr th {\n",
       "        vertical-align: top;\n",
       "    }\n",
       "\n",
       "    .dataframe thead th {\n",
       "        text-align: right;\n",
       "    }\n",
       "</style>\n",
       "<table border=\"1\" class=\"dataframe\">\n",
       "  <thead>\n",
       "    <tr style=\"text-align: right;\">\n",
       "      <th></th>\n",
       "      <th>PassengerId</th>\n",
       "      <th>Survived</th>\n",
       "      <th>Pclass</th>\n",
       "      <th>Age</th>\n",
       "      <th>SibSp</th>\n",
       "      <th>Parch</th>\n",
       "      <th>Fare</th>\n",
       "    </tr>\n",
       "  </thead>\n",
       "  <tbody>\n",
       "    <tr>\n",
       "      <th>0</th>\n",
       "      <td>1</td>\n",
       "      <td>0</td>\n",
       "      <td>3</td>\n",
       "      <td>22.000</td>\n",
       "      <td>1</td>\n",
       "      <td>0</td>\n",
       "      <td>7.250</td>\n",
       "    </tr>\n",
       "    <tr>\n",
       "      <th>1</th>\n",
       "      <td>2</td>\n",
       "      <td>1</td>\n",
       "      <td>1</td>\n",
       "      <td>38.000</td>\n",
       "      <td>1</td>\n",
       "      <td>0</td>\n",
       "      <td>71.283</td>\n",
       "    </tr>\n",
       "    <tr>\n",
       "      <th>2</th>\n",
       "      <td>3</td>\n",
       "      <td>1</td>\n",
       "      <td>3</td>\n",
       "      <td>26.000</td>\n",
       "      <td>0</td>\n",
       "      <td>0</td>\n",
       "      <td>7.925</td>\n",
       "    </tr>\n",
       "    <tr>\n",
       "      <th>3</th>\n",
       "      <td>4</td>\n",
       "      <td>1</td>\n",
       "      <td>1</td>\n",
       "      <td>35.000</td>\n",
       "      <td>1</td>\n",
       "      <td>0</td>\n",
       "      <td>53.100</td>\n",
       "    </tr>\n",
       "    <tr>\n",
       "      <th>4</th>\n",
       "      <td>5</td>\n",
       "      <td>0</td>\n",
       "      <td>3</td>\n",
       "      <td>35.000</td>\n",
       "      <td>0</td>\n",
       "      <td>0</td>\n",
       "      <td>8.050</td>\n",
       "    </tr>\n",
       "  </tbody>\n",
       "</table>\n",
       "</div>"
      ],
      "text/plain": [
       "   PassengerId  Survived  Pclass    Age  SibSp  Parch   Fare\n",
       "0            1         0       3 22.000      1      0  7.250\n",
       "1            2         1       1 38.000      1      0 71.283\n",
       "2            3         1       3 26.000      0      0  7.925\n",
       "3            4         1       1 35.000      1      0 53.100\n",
       "4            5         0       3 35.000      0      0  8.050"
      ]
     },
     "execution_count": 18,
     "metadata": {},
     "output_type": "execute_result"
    }
   ],
   "source": [
    "data[numerical].head()"
   ]
  },
  {
   "cell_type": "code",
   "execution_count": 19,
   "metadata": {},
   "outputs": [
    {
     "data": {
      "text/html": [
       "<div>\n",
       "<style scoped>\n",
       "    .dataframe tbody tr th:only-of-type {\n",
       "        vertical-align: middle;\n",
       "    }\n",
       "\n",
       "    .dataframe tbody tr th {\n",
       "        vertical-align: top;\n",
       "    }\n",
       "\n",
       "    .dataframe thead th {\n",
       "        text-align: right;\n",
       "    }\n",
       "</style>\n",
       "<table border=\"1\" class=\"dataframe\">\n",
       "  <thead>\n",
       "    <tr style=\"text-align: right;\">\n",
       "      <th></th>\n",
       "      <th>PassengerId</th>\n",
       "      <th>Survived</th>\n",
       "      <th>Pclass</th>\n",
       "      <th>Age</th>\n",
       "      <th>SibSp</th>\n",
       "      <th>Parch</th>\n",
       "      <th>Fare</th>\n",
       "    </tr>\n",
       "  </thead>\n",
       "  <tbody>\n",
       "    <tr>\n",
       "      <th>count</th>\n",
       "      <td>891.000</td>\n",
       "      <td>891.000</td>\n",
       "      <td>891.000</td>\n",
       "      <td>714.000</td>\n",
       "      <td>891.000</td>\n",
       "      <td>891.000</td>\n",
       "      <td>891.000</td>\n",
       "    </tr>\n",
       "    <tr>\n",
       "      <th>mean</th>\n",
       "      <td>446.000</td>\n",
       "      <td>0.384</td>\n",
       "      <td>2.309</td>\n",
       "      <td>29.699</td>\n",
       "      <td>0.523</td>\n",
       "      <td>0.382</td>\n",
       "      <td>32.204</td>\n",
       "    </tr>\n",
       "    <tr>\n",
       "      <th>std</th>\n",
       "      <td>257.354</td>\n",
       "      <td>0.487</td>\n",
       "      <td>0.836</td>\n",
       "      <td>14.526</td>\n",
       "      <td>1.103</td>\n",
       "      <td>0.806</td>\n",
       "      <td>49.693</td>\n",
       "    </tr>\n",
       "    <tr>\n",
       "      <th>min</th>\n",
       "      <td>1.000</td>\n",
       "      <td>0.000</td>\n",
       "      <td>1.000</td>\n",
       "      <td>0.420</td>\n",
       "      <td>0.000</td>\n",
       "      <td>0.000</td>\n",
       "      <td>0.000</td>\n",
       "    </tr>\n",
       "    <tr>\n",
       "      <th>25%</th>\n",
       "      <td>223.500</td>\n",
       "      <td>0.000</td>\n",
       "      <td>2.000</td>\n",
       "      <td>20.125</td>\n",
       "      <td>0.000</td>\n",
       "      <td>0.000</td>\n",
       "      <td>7.910</td>\n",
       "    </tr>\n",
       "    <tr>\n",
       "      <th>50%</th>\n",
       "      <td>446.000</td>\n",
       "      <td>0.000</td>\n",
       "      <td>3.000</td>\n",
       "      <td>28.000</td>\n",
       "      <td>0.000</td>\n",
       "      <td>0.000</td>\n",
       "      <td>14.454</td>\n",
       "    </tr>\n",
       "    <tr>\n",
       "      <th>75%</th>\n",
       "      <td>668.500</td>\n",
       "      <td>1.000</td>\n",
       "      <td>3.000</td>\n",
       "      <td>38.000</td>\n",
       "      <td>1.000</td>\n",
       "      <td>0.000</td>\n",
       "      <td>31.000</td>\n",
       "    </tr>\n",
       "    <tr>\n",
       "      <th>max</th>\n",
       "      <td>891.000</td>\n",
       "      <td>1.000</td>\n",
       "      <td>3.000</td>\n",
       "      <td>80.000</td>\n",
       "      <td>8.000</td>\n",
       "      <td>6.000</td>\n",
       "      <td>512.329</td>\n",
       "    </tr>\n",
       "  </tbody>\n",
       "</table>\n",
       "</div>"
      ],
      "text/plain": [
       "       PassengerId  Survived  Pclass     Age   SibSp   Parch    Fare\n",
       "count      891.000   891.000 891.000 714.000 891.000 891.000 891.000\n",
       "mean       446.000     0.384   2.309  29.699   0.523   0.382  32.204\n",
       "std        257.354     0.487   0.836  14.526   1.103   0.806  49.693\n",
       "min          1.000     0.000   1.000   0.420   0.000   0.000   0.000\n",
       "25%        223.500     0.000   2.000  20.125   0.000   0.000   7.910\n",
       "50%        446.000     0.000   3.000  28.000   0.000   0.000  14.454\n",
       "75%        668.500     1.000   3.000  38.000   1.000   0.000  31.000\n",
       "max        891.000     1.000   3.000  80.000   8.000   6.000 512.329"
      ]
     },
     "execution_count": 19,
     "metadata": {},
     "output_type": "execute_result"
    }
   ],
   "source": [
    "data[numerical].describe()"
   ]
  },
  {
   "cell_type": "markdown",
   "metadata": {},
   "source": [
    "#### Discrete "
   ]
  },
  {
   "cell_type": "code",
   "execution_count": 20,
   "metadata": {},
   "outputs": [
    {
     "name": "stdout",
     "output_type": "stream",
     "text": [
      "Pclass values [3 1 2]\n",
      "SibSp values [1 0 3 4 2 5 8]\n",
      "Parch values [0 1 2 5 3 4 6]\n",
      "\n",
      "There are 3 discrete variables\n"
     ]
    }
   ],
   "source": [
    "# check the values of the discrete variables(numerical)\n",
    "discrete = []\n",
    "\n",
    "for var in numerical:\n",
    "    if len(data[var].unique())< 10 and var not in [\"Survived\"] :\n",
    "        print(var,\"values\", data[var].unique())\n",
    "        discrete.append(var)\n",
    "print()        \n",
    "print(\"There are {} discrete variables\".format(len(discrete)))"
   ]
  },
  {
   "cell_type": "code",
   "execution_count": 21,
   "metadata": {},
   "outputs": [
    {
     "data": {
      "image/png": "[encoded data removed]",
      "text/plain": [
       "<Figure size 432x288 with 1 Axes>"
      ]
     },
     "metadata": {
      "needs_background": "light"
     },
     "output_type": "display_data"
    },
    {
     "data": {
      "image/png": "[encoded data removed]",
      "text/plain": [
       "<Figure size 432x288 with 1 Axes>"
      ]
     },
     "metadata": {
      "needs_background": "light"
     },
     "output_type": "display_data"
    },
    {
     "data": {
      "image/png": "[encoded data removed]",
      "text/plain": [
       "<Figure size 432x288 with 1 Axes>"
      ]
     },
     "metadata": {
      "needs_background": "light"
     },
     "output_type": "display_data"
    }
   ],
   "source": [
    "# check different categories in discrete variables\n",
    "for var in discrete:\n",
    "    (data.groupby(var)[var].count() / len(data)).plot.bar()\n",
    "    plt.ylabel(\"Percentage of observations per label\")\n",
    "    plt.title(var)\n",
    "    plt.show()"
   ]
  },
  {
   "cell_type": "code",
   "execution_count": 22,
   "metadata": {},
   "outputs": [
    {
     "name": "stdout",
     "output_type": "stream",
     "text": [
      "3   0.551\n",
      "1   0.242\n",
      "2   0.207\n",
      "Name: Pclass, dtype: float64\n",
      "\n",
      "0   0.682\n",
      "1   0.235\n",
      "2   0.031\n",
      "4   0.020\n",
      "3   0.018\n",
      "8   0.008\n",
      "5   0.006\n",
      "Name: SibSp, dtype: float64\n",
      "\n",
      "0   0.761\n",
      "1   0.132\n",
      "2   0.090\n",
      "3   0.006\n",
      "5   0.006\n",
      "4   0.004\n",
      "6   0.001\n",
      "Name: Parch, dtype: float64\n",
      "\n"
     ]
    }
   ],
   "source": [
    "# rare / unfrequent labels \n",
    "for var in discrete:\n",
    "    print(data[var].value_counts() / len(data))\n",
    "    print()"
   ]
  },
  {
   "cell_type": "markdown",
   "metadata": {},
   "source": [
    "**Pclass**: all numbers present in this variable are at least 20% of the passengers.\n",
    "\n",
    "**SibSp**  Values bigger than 4 are rare. replace with most frequency\n",
    "\n",
    "**Parch**  values bigger than 2 are rare. replace with most frequency"
   ]
  },
  {
   "cell_type": "markdown",
   "metadata": {},
   "source": [
    "#### Continuous"
   ]
  },
  {
   "cell_type": "code",
   "execution_count": 23,
   "metadata": {},
   "outputs": [
    {
     "name": "stdout",
     "output_type": "stream",
     "text": [
      "There are 2 continuous variables\n"
     ]
    }
   ],
   "source": [
    "continuous = [var for var in numerical if var not in discrete and var not in [\"PassengerId\", \"Survived\"]]\n",
    "print(\"There are {} continuous variables\".format(len(continuous)))"
   ]
  },
  {
   "cell_type": "code",
   "execution_count": 24,
   "metadata": {},
   "outputs": [
    {
     "data": {
      "text/html": [
       "<div>\n",
       "<style scoped>\n",
       "    .dataframe tbody tr th:only-of-type {\n",
       "        vertical-align: middle;\n",
       "    }\n",
       "\n",
       "    .dataframe tbody tr th {\n",
       "        vertical-align: top;\n",
       "    }\n",
       "\n",
       "    .dataframe thead th {\n",
       "        text-align: right;\n",
       "    }\n",
       "</style>\n",
       "<table border=\"1\" class=\"dataframe\">\n",
       "  <thead>\n",
       "    <tr style=\"text-align: right;\">\n",
       "      <th></th>\n",
       "      <th>Age</th>\n",
       "      <th>Fare</th>\n",
       "    </tr>\n",
       "  </thead>\n",
       "  <tbody>\n",
       "    <tr>\n",
       "      <th>0</th>\n",
       "      <td>22.000</td>\n",
       "      <td>7.250</td>\n",
       "    </tr>\n",
       "    <tr>\n",
       "      <th>1</th>\n",
       "      <td>38.000</td>\n",
       "      <td>71.283</td>\n",
       "    </tr>\n",
       "    <tr>\n",
       "      <th>2</th>\n",
       "      <td>26.000</td>\n",
       "      <td>7.925</td>\n",
       "    </tr>\n",
       "    <tr>\n",
       "      <th>3</th>\n",
       "      <td>35.000</td>\n",
       "      <td>53.100</td>\n",
       "    </tr>\n",
       "    <tr>\n",
       "      <th>4</th>\n",
       "      <td>35.000</td>\n",
       "      <td>8.050</td>\n",
       "    </tr>\n",
       "  </tbody>\n",
       "</table>\n",
       "</div>"
      ],
      "text/plain": [
       "     Age   Fare\n",
       "0 22.000  7.250\n",
       "1 38.000 71.283\n",
       "2 26.000  7.925\n",
       "3 35.000 53.100\n",
       "4 35.000  8.050"
      ]
     },
     "execution_count": 24,
     "metadata": {},
     "output_type": "execute_result"
    }
   ],
   "source": [
    "data[continuous].head()"
   ]
  },
  {
   "cell_type": "markdown",
   "metadata": {},
   "source": [
    "#### Target"
   ]
  },
  {
   "cell_type": "code",
   "execution_count": 25,
   "metadata": {},
   "outputs": [
    {
     "data": {
      "text/plain": [
       "0   61.616\n",
       "1   38.384\n",
       "Name: Survived, dtype: float64"
      ]
     },
     "execution_count": 25,
     "metadata": {},
     "output_type": "execute_result"
    }
   ],
   "source": [
    "data[\"Survived\"].value_counts(normalize=True) * 100"
   ]
  },
  {
   "cell_type": "markdown",
   "metadata": {},
   "source": [
    "Summary:\n",
    "\n",
    "- 5 categorical variables: from them 2 could be treated as mixed type of variables (numbers and strings)\n",
    "\n",
    "\n",
    "- 7 numerical variables: 3 discrete, 2 continious, 1 Id, and 1 binary target\n",
    "\n",
    "\n",
    "- quite equal class distribution for Target\n",
    "\n",
    "\n",
    "- Metric for Evaluation is Accuracy"
   ]
  },
  {
   "cell_type": "markdown",
   "metadata": {},
   "source": [
    "### Missing values"
   ]
  },
  {
   "cell_type": "code",
   "execution_count": 26,
   "metadata": {},
   "outputs": [
    {
     "name": "stdout",
     "output_type": "stream",
     "text": [
      "Total variables with missing values: 3\n"
     ]
    }
   ],
   "source": [
    "# how many variables with missing values in train datset?\n",
    "vars_with_na_data = [var for var in data.columns if data[var].isna().sum()>0]\n",
    "print(\"Total variables with missing values:\", len(vars_with_na_data))"
   ]
  },
  {
   "cell_type": "code",
   "execution_count": 27,
   "metadata": {},
   "outputs": [
    {
     "name": "stdout",
     "output_type": "stream",
     "text": [
      "Age 0.199\n",
      "Cabin 0.771\n",
      "Embarked 0.002\n"
     ]
    }
   ],
   "source": [
    "# percentage of missing values for each variable\n",
    "for var in data.columns:\n",
    "    if data[var].isnull().sum()>0:\n",
    "        print(var, round(data[var].isna().sum() / data[var].shape[0],3))"
   ]
  },
  {
   "cell_type": "code",
   "execution_count": 28,
   "metadata": {},
   "outputs": [
    {
     "name": "stdout",
     "output_type": "stream",
     "text": [
      "Total variables with missing values: 3\n"
     ]
    }
   ],
   "source": [
    "# how many variables with missing values in test datset?\n",
    "vars_with_na_sub = [var for var in submission.columns if submission[var].isna().sum()>0]\n",
    "print(\"Total variables with missing values:\", len(vars_with_na_sub))"
   ]
  },
  {
   "cell_type": "code",
   "execution_count": 29,
   "metadata": {},
   "outputs": [
    {
     "name": "stdout",
     "output_type": "stream",
     "text": [
      "Age 0.206\n",
      "Fare 0.002\n",
      "Cabin 0.782\n"
     ]
    }
   ],
   "source": [
    "# percentage of missing values for each variable\n",
    "for var in submission.columns:\n",
    "    if submission[var].isna().sum()>0:\n",
    "        print(var, round(submission[var].isna().sum() / submission[var].shape[0],3))"
   ]
  },
  {
   "cell_type": "markdown",
   "metadata": {},
   "source": [
    "### check distributions & outliers(univariate analysis)"
   ]
  },
  {
   "cell_type": "code",
   "execution_count": 30,
   "metadata": {},
   "outputs": [
    {
     "data": {
      "image/png": "[encoded data removed]",
      "text/plain": [
       "<Figure size 864x432 with 2 Axes>"
      ]
     },
     "metadata": {
      "needs_background": "light"
     },
     "output_type": "display_data"
    },
    {
     "data": {
      "image/png": "[encoded data removed]",
      "text/plain": [
       "<Figure size 864x432 with 2 Axes>"
      ]
     },
     "metadata": {
      "needs_background": "light"
     },
     "output_type": "display_data"
    }
   ],
   "source": [
    "# check outliers and distributions among continous variables with boxplot and histogram (univariate analysis)\n",
    "\n",
    "for var in continuous:\n",
    "    plt.figure(figsize=(12,6))\n",
    "    plt.subplot(1, 2, 1)\n",
    "    fig = data.boxplot(column=var,grid=False)\n",
    "    fig.set_ylabel(var)\n",
    "    \n",
    "    plt.subplot(1, 2, 2)\n",
    "    fig=sns.distplot(data[var], kde=True)\n",
    "    fig.set_xlabel(var)\n",
    "\n",
    "    plt.show()"
   ]
  },
  {
   "cell_type": "markdown",
   "metadata": {},
   "source": [
    "- Age is quite Gaussian and Fare is right skewed.\n",
    "\n",
    "\n",
    "- both of them contains outlier(at top)\n",
    "\n",
    "\n",
    "- I will use top-coding(Capping) for Age, and discretisation for Fare."
   ]
  },
  {
   "cell_type": "code",
   "execution_count": 31,
   "metadata": {},
   "outputs": [
    {
     "name": "stdout",
     "output_type": "stream",
     "text": [
      "Age outliers are values < -13.88037434994331 or > 73.27860964406095\n"
     ]
    }
   ],
   "source": [
    "# check outliers for top-coding(Capping) in Age\n",
    "Upper_boundary = data[\"Age\"].mean() + 3 * data[\"Age\"].std()\n",
    "Lower_boundary = data[\"Age\"].mean() - 3 * data[\"Age\"].std()\n",
    "\n",
    "print(\"Age outliers are values < {lowerboundary} or > {upperboundary}\".format(lowerboundary=Lower_boundary, upperboundary=Upper_boundary))"
   ]
  },
  {
   "cell_type": "code",
   "execution_count": 32,
   "metadata": {},
   "outputs": [
    {
     "data": {
      "text/html": [
       "<div>\n",
       "<style scoped>\n",
       "    .dataframe tbody tr th:only-of-type {\n",
       "        vertical-align: middle;\n",
       "    }\n",
       "\n",
       "    .dataframe tbody tr th {\n",
       "        vertical-align: top;\n",
       "    }\n",
       "\n",
       "    .dataframe thead th {\n",
       "        text-align: right;\n",
       "    }\n",
       "</style>\n",
       "<table border=\"1\" class=\"dataframe\">\n",
       "  <thead>\n",
       "    <tr style=\"text-align: right;\">\n",
       "      <th></th>\n",
       "      <th>PassengerId</th>\n",
       "      <th>Survived</th>\n",
       "      <th>Pclass</th>\n",
       "      <th>Name</th>\n",
       "      <th>Sex</th>\n",
       "      <th>Age</th>\n",
       "      <th>SibSp</th>\n",
       "      <th>Parch</th>\n",
       "      <th>Ticket</th>\n",
       "      <th>Fare</th>\n",
       "      <th>Cabin</th>\n",
       "      <th>Embarked</th>\n",
       "    </tr>\n",
       "  </thead>\n",
       "  <tbody>\n",
       "    <tr>\n",
       "      <th>630</th>\n",
       "      <td>631</td>\n",
       "      <td>1</td>\n",
       "      <td>1</td>\n",
       "      <td>Barkworth, Mr. Algernon Henry Wilson</td>\n",
       "      <td>male</td>\n",
       "      <td>80.000</td>\n",
       "      <td>0</td>\n",
       "      <td>0</td>\n",
       "      <td>27042</td>\n",
       "      <td>30.000</td>\n",
       "      <td>A23</td>\n",
       "      <td>S</td>\n",
       "    </tr>\n",
       "    <tr>\n",
       "      <th>851</th>\n",
       "      <td>852</td>\n",
       "      <td>0</td>\n",
       "      <td>3</td>\n",
       "      <td>Svensson, Mr. Johan</td>\n",
       "      <td>male</td>\n",
       "      <td>74.000</td>\n",
       "      <td>0</td>\n",
       "      <td>0</td>\n",
       "      <td>347060</td>\n",
       "      <td>7.775</td>\n",
       "      <td>NaN</td>\n",
       "      <td>S</td>\n",
       "    </tr>\n",
       "  </tbody>\n",
       "</table>\n",
       "</div>"
      ],
      "text/plain": [
       "     PassengerId  Survived  Pclass                                  Name  \\\n",
       "630          631         1       1  Barkworth, Mr. Algernon Henry Wilson   \n",
       "851          852         0       3                   Svensson, Mr. Johan   \n",
       "\n",
       "      Sex    Age  SibSp  Parch  Ticket   Fare Cabin Embarked  \n",
       "630  male 80.000      0      0   27042 30.000   A23        S  \n",
       "851  male 74.000      0      0  347060  7.775   NaN        S  "
      ]
     },
     "execution_count": 32,
     "metadata": {},
     "output_type": "execute_result"
    }
   ],
   "source": [
    "data.loc[data[\"Age\"] > 73] "
   ]
  },
  {
   "cell_type": "markdown",
   "metadata": {},
   "source": [
    "### check correlation between continuous variables (bivariate analysis)"
   ]
  },
  {
   "cell_type": "code",
   "execution_count": 33,
   "metadata": {},
   "outputs": [
    {
     "data": {
      "image/png": "[encoded data removed]",
      "text/plain": [
       "<Figure size 360x360 with 2 Axes>"
      ]
     },
     "metadata": {
      "needs_background": "light"
     },
     "output_type": "display_data"
    }
   ],
   "source": [
    "columns = continuous\n",
    "\n",
    "plt.figure(figsize=(5,5))\n",
    "sns.heatmap(data[columns].corr(),cmap=\"RdBu\",annot=True,fmt=\".2f\")\n",
    "plt.show()"
   ]
  },
  {
   "cell_type": "markdown",
   "metadata": {},
   "source": [
    "### Pre-processing of mixed type of variables"
   ]
  },
  {
   "cell_type": "code",
   "execution_count": 34,
   "metadata": {},
   "outputs": [
    {
     "data": {
      "text/html": [
       "<div>\n",
       "<style scoped>\n",
       "    .dataframe tbody tr th:only-of-type {\n",
       "        vertical-align: middle;\n",
       "    }\n",
       "\n",
       "    .dataframe tbody tr th {\n",
       "        vertical-align: top;\n",
       "    }\n",
       "\n",
       "    .dataframe thead th {\n",
       "        text-align: right;\n",
       "    }\n",
       "</style>\n",
       "<table border=\"1\" class=\"dataframe\">\n",
       "  <thead>\n",
       "    <tr style=\"text-align: right;\">\n",
       "      <th></th>\n",
       "      <th>Name</th>\n",
       "      <th>Sex</th>\n",
       "      <th>Ticket</th>\n",
       "      <th>Cabin</th>\n",
       "      <th>Embarked</th>\n",
       "    </tr>\n",
       "  </thead>\n",
       "  <tbody>\n",
       "    <tr>\n",
       "      <th>0</th>\n",
       "      <td>Braund, Mr. Owen Harris</td>\n",
       "      <td>male</td>\n",
       "      <td>A/5 21171</td>\n",
       "      <td>NaN</td>\n",
       "      <td>S</td>\n",
       "    </tr>\n",
       "    <tr>\n",
       "      <th>1</th>\n",
       "      <td>Cumings, Mrs. John Bradley (Florence Briggs Th...</td>\n",
       "      <td>female</td>\n",
       "      <td>PC 17599</td>\n",
       "      <td>C85</td>\n",
       "      <td>C</td>\n",
       "    </tr>\n",
       "    <tr>\n",
       "      <th>2</th>\n",
       "      <td>Heikkinen, Miss. Laina</td>\n",
       "      <td>female</td>\n",
       "      <td>STON/O2. 3101282</td>\n",
       "      <td>NaN</td>\n",
       "      <td>S</td>\n",
       "    </tr>\n",
       "    <tr>\n",
       "      <th>3</th>\n",
       "      <td>Futrelle, Mrs. Jacques Heath (Lily May Peel)</td>\n",
       "      <td>female</td>\n",
       "      <td>113803</td>\n",
       "      <td>C123</td>\n",
       "      <td>S</td>\n",
       "    </tr>\n",
       "    <tr>\n",
       "      <th>4</th>\n",
       "      <td>Allen, Mr. William Henry</td>\n",
       "      <td>male</td>\n",
       "      <td>373450</td>\n",
       "      <td>NaN</td>\n",
       "      <td>S</td>\n",
       "    </tr>\n",
       "    <tr>\n",
       "      <th>5</th>\n",
       "      <td>Moran, Mr. James</td>\n",
       "      <td>male</td>\n",
       "      <td>330877</td>\n",
       "      <td>NaN</td>\n",
       "      <td>Q</td>\n",
       "    </tr>\n",
       "    <tr>\n",
       "      <th>6</th>\n",
       "      <td>McCarthy, Mr. Timothy J</td>\n",
       "      <td>male</td>\n",
       "      <td>17463</td>\n",
       "      <td>E46</td>\n",
       "      <td>S</td>\n",
       "    </tr>\n",
       "    <tr>\n",
       "      <th>7</th>\n",
       "      <td>Palsson, Master. Gosta Leonard</td>\n",
       "      <td>male</td>\n",
       "      <td>349909</td>\n",
       "      <td>NaN</td>\n",
       "      <td>S</td>\n",
       "    </tr>\n",
       "    <tr>\n",
       "      <th>8</th>\n",
       "      <td>Johnson, Mrs. Oscar W (Elisabeth Vilhelmina Berg)</td>\n",
       "      <td>female</td>\n",
       "      <td>347742</td>\n",
       "      <td>NaN</td>\n",
       "      <td>S</td>\n",
       "    </tr>\n",
       "    <tr>\n",
       "      <th>9</th>\n",
       "      <td>Nasser, Mrs. Nicholas (Adele Achem)</td>\n",
       "      <td>female</td>\n",
       "      <td>237736</td>\n",
       "      <td>NaN</td>\n",
       "      <td>C</td>\n",
       "    </tr>\n",
       "    <tr>\n",
       "      <th>10</th>\n",
       "      <td>Sandstrom, Miss. Marguerite Rut</td>\n",
       "      <td>female</td>\n",
       "      <td>PP 9549</td>\n",
       "      <td>G6</td>\n",
       "      <td>S</td>\n",
       "    </tr>\n",
       "    <tr>\n",
       "      <th>11</th>\n",
       "      <td>Bonnell, Miss. Elizabeth</td>\n",
       "      <td>female</td>\n",
       "      <td>113783</td>\n",
       "      <td>C103</td>\n",
       "      <td>S</td>\n",
       "    </tr>\n",
       "    <tr>\n",
       "      <th>12</th>\n",
       "      <td>Saundercock, Mr. William Henry</td>\n",
       "      <td>male</td>\n",
       "      <td>A/5. 2151</td>\n",
       "      <td>NaN</td>\n",
       "      <td>S</td>\n",
       "    </tr>\n",
       "    <tr>\n",
       "      <th>13</th>\n",
       "      <td>Andersson, Mr. Anders Johan</td>\n",
       "      <td>male</td>\n",
       "      <td>347082</td>\n",
       "      <td>NaN</td>\n",
       "      <td>S</td>\n",
       "    </tr>\n",
       "    <tr>\n",
       "      <th>14</th>\n",
       "      <td>Vestrom, Miss. Hulda Amanda Adolfina</td>\n",
       "      <td>female</td>\n",
       "      <td>350406</td>\n",
       "      <td>NaN</td>\n",
       "      <td>S</td>\n",
       "    </tr>\n",
       "    <tr>\n",
       "      <th>15</th>\n",
       "      <td>Hewlett, Mrs. (Mary D Kingcome)</td>\n",
       "      <td>female</td>\n",
       "      <td>248706</td>\n",
       "      <td>NaN</td>\n",
       "      <td>S</td>\n",
       "    </tr>\n",
       "    <tr>\n",
       "      <th>16</th>\n",
       "      <td>Rice, Master. Eugene</td>\n",
       "      <td>male</td>\n",
       "      <td>382652</td>\n",
       "      <td>NaN</td>\n",
       "      <td>Q</td>\n",
       "    </tr>\n",
       "    <tr>\n",
       "      <th>17</th>\n",
       "      <td>Williams, Mr. Charles Eugene</td>\n",
       "      <td>male</td>\n",
       "      <td>244373</td>\n",
       "      <td>NaN</td>\n",
       "      <td>S</td>\n",
       "    </tr>\n",
       "    <tr>\n",
       "      <th>18</th>\n",
       "      <td>Vander Planke, Mrs. Julius (Emelia Maria Vande...</td>\n",
       "      <td>female</td>\n",
       "      <td>345763</td>\n",
       "      <td>NaN</td>\n",
       "      <td>S</td>\n",
       "    </tr>\n",
       "    <tr>\n",
       "      <th>19</th>\n",
       "      <td>Masselmani, Mrs. Fatima</td>\n",
       "      <td>female</td>\n",
       "      <td>2649</td>\n",
       "      <td>NaN</td>\n",
       "      <td>C</td>\n",
       "    </tr>\n",
       "  </tbody>\n",
       "</table>\n",
       "</div>"
      ],
      "text/plain": [
       "                                                 Name     Sex  \\\n",
       "0                             Braund, Mr. Owen Harris    male   \n",
       "1   Cumings, Mrs. John Bradley (Florence Briggs Th...  female   \n",
       "2                              Heikkinen, Miss. Laina  female   \n",
       "3        Futrelle, Mrs. Jacques Heath (Lily May Peel)  female   \n",
       "4                            Allen, Mr. William Henry    male   \n",
       "5                                    Moran, Mr. James    male   \n",
       "6                             McCarthy, Mr. Timothy J    male   \n",
       "7                      Palsson, Master. Gosta Leonard    male   \n",
       "8   Johnson, Mrs. Oscar W (Elisabeth Vilhelmina Berg)  female   \n",
       "9                 Nasser, Mrs. Nicholas (Adele Achem)  female   \n",
       "10                    Sandstrom, Miss. Marguerite Rut  female   \n",
       "11                           Bonnell, Miss. Elizabeth  female   \n",
       "12                     Saundercock, Mr. William Henry    male   \n",
       "13                        Andersson, Mr. Anders Johan    male   \n",
       "14               Vestrom, Miss. Hulda Amanda Adolfina  female   \n",
       "15                   Hewlett, Mrs. (Mary D Kingcome)   female   \n",
       "16                               Rice, Master. Eugene    male   \n",
       "17                       Williams, Mr. Charles Eugene    male   \n",
       "18  Vander Planke, Mrs. Julius (Emelia Maria Vande...  female   \n",
       "19                            Masselmani, Mrs. Fatima  female   \n",
       "\n",
       "              Ticket Cabin Embarked  \n",
       "0          A/5 21171   NaN        S  \n",
       "1           PC 17599   C85        C  \n",
       "2   STON/O2. 3101282   NaN        S  \n",
       "3             113803  C123        S  \n",
       "4             373450   NaN        S  \n",
       "5             330877   NaN        Q  \n",
       "6              17463   E46        S  \n",
       "7             349909   NaN        S  \n",
       "8             347742   NaN        S  \n",
       "9             237736   NaN        C  \n",
       "10           PP 9549    G6        S  \n",
       "11            113783  C103        S  \n",
       "12         A/5. 2151   NaN        S  \n",
       "13            347082   NaN        S  \n",
       "14            350406   NaN        S  \n",
       "15            248706   NaN        S  \n",
       "16            382652   NaN        Q  \n",
       "17            244373   NaN        S  \n",
       "18            345763   NaN        S  \n",
       "19              2649   NaN        C  "
      ]
     },
     "execution_count": 34,
     "metadata": {},
     "output_type": "execute_result"
    }
   ],
   "source": [
    "data[categorical].head(20)"
   ]
  },
  {
   "cell_type": "markdown",
   "metadata": {},
   "source": [
    "#### Cabin(for train data)"
   ]
  },
  {
   "cell_type": "code",
   "execution_count": 35,
   "metadata": {},
   "outputs": [],
   "source": [
    "data[\"Cabin_numerical\"] = data[\"Cabin\"].str.extract(\"(\\d+)\") # extracts number from string\n",
    "data[\"Cabin_numerical\"] = data[\"Cabin_numerical\"].astype(\"float\") # change types of  above variable to float\n",
    "\n",
    "data[\"Cabin_categorical\"] = data[\"Cabin\"].str[0] # captures first letter of string (the letter of the cabin)"
   ]
  },
  {
   "cell_type": "code",
   "execution_count": 36,
   "metadata": {},
   "outputs": [],
   "source": [
    "categorical.append(\"Cabin_categorical\")\n",
    "categorical.remove(\"Cabin\")\n",
    "continuous.append(\"Cabin_numerical\")"
   ]
  },
  {
   "cell_type": "markdown",
   "metadata": {},
   "source": [
    "#### Cabin(for test data)"
   ]
  },
  {
   "cell_type": "code",
   "execution_count": 37,
   "metadata": {},
   "outputs": [],
   "source": [
    "submission[\"Cabin_numerical\"] = submission[\"Cabin\"].str.extract(\"(\\d+)\")\n",
    "submission[\"Cabin_numerical\"] = submission[\"Cabin_numerical\"].astype(\"float\")\n",
    "\n",
    "submission[\"Cabin_categorical\"] = submission[\"Cabin\"].str[0]"
   ]
  },
  {
   "cell_type": "code",
   "execution_count": 38,
   "metadata": {},
   "outputs": [
    {
     "data": {
      "text/html": [
       "<div>\n",
       "<style scoped>\n",
       "    .dataframe tbody tr th:only-of-type {\n",
       "        vertical-align: middle;\n",
       "    }\n",
       "\n",
       "    .dataframe tbody tr th {\n",
       "        vertical-align: top;\n",
       "    }\n",
       "\n",
       "    .dataframe thead th {\n",
       "        text-align: right;\n",
       "    }\n",
       "</style>\n",
       "<table border=\"1\" class=\"dataframe\">\n",
       "  <thead>\n",
       "    <tr style=\"text-align: right;\">\n",
       "      <th></th>\n",
       "      <th>Cabin</th>\n",
       "      <th>Cabin_numerical</th>\n",
       "      <th>Cabin_categorical</th>\n",
       "    </tr>\n",
       "  </thead>\n",
       "  <tbody>\n",
       "    <tr>\n",
       "      <th>0</th>\n",
       "      <td>NaN</td>\n",
       "      <td>NaN</td>\n",
       "      <td>NaN</td>\n",
       "    </tr>\n",
       "    <tr>\n",
       "      <th>1</th>\n",
       "      <td>C85</td>\n",
       "      <td>85.000</td>\n",
       "      <td>C</td>\n",
       "    </tr>\n",
       "    <tr>\n",
       "      <th>2</th>\n",
       "      <td>NaN</td>\n",
       "      <td>NaN</td>\n",
       "      <td>NaN</td>\n",
       "    </tr>\n",
       "    <tr>\n",
       "      <th>3</th>\n",
       "      <td>C123</td>\n",
       "      <td>123.000</td>\n",
       "      <td>C</td>\n",
       "    </tr>\n",
       "    <tr>\n",
       "      <th>4</th>\n",
       "      <td>NaN</td>\n",
       "      <td>NaN</td>\n",
       "      <td>NaN</td>\n",
       "    </tr>\n",
       "    <tr>\n",
       "      <th>5</th>\n",
       "      <td>NaN</td>\n",
       "      <td>NaN</td>\n",
       "      <td>NaN</td>\n",
       "    </tr>\n",
       "    <tr>\n",
       "      <th>6</th>\n",
       "      <td>E46</td>\n",
       "      <td>46.000</td>\n",
       "      <td>E</td>\n",
       "    </tr>\n",
       "    <tr>\n",
       "      <th>7</th>\n",
       "      <td>NaN</td>\n",
       "      <td>NaN</td>\n",
       "      <td>NaN</td>\n",
       "    </tr>\n",
       "    <tr>\n",
       "      <th>8</th>\n",
       "      <td>NaN</td>\n",
       "      <td>NaN</td>\n",
       "      <td>NaN</td>\n",
       "    </tr>\n",
       "    <tr>\n",
       "      <th>9</th>\n",
       "      <td>NaN</td>\n",
       "      <td>NaN</td>\n",
       "      <td>NaN</td>\n",
       "    </tr>\n",
       "  </tbody>\n",
       "</table>\n",
       "</div>"
      ],
      "text/plain": [
       "  Cabin  Cabin_numerical Cabin_categorical\n",
       "0   NaN              NaN               NaN\n",
       "1   C85           85.000                 C\n",
       "2   NaN              NaN               NaN\n",
       "3  C123          123.000                 C\n",
       "4   NaN              NaN               NaN\n",
       "5   NaN              NaN               NaN\n",
       "6   E46           46.000                 E\n",
       "7   NaN              NaN               NaN\n",
       "8   NaN              NaN               NaN\n",
       "9   NaN              NaN               NaN"
      ]
     },
     "execution_count": 38,
     "metadata": {},
     "output_type": "execute_result"
    }
   ],
   "source": [
    "data[[\"Cabin\", \"Cabin_numerical\",\"Cabin_categorical\"]].head(10)"
   ]
  },
  {
   "cell_type": "code",
   "execution_count": 39,
   "metadata": {},
   "outputs": [
    {
     "data": {
      "text/html": [
       "<div>\n",
       "<style scoped>\n",
       "    .dataframe tbody tr th:only-of-type {\n",
       "        vertical-align: middle;\n",
       "    }\n",
       "\n",
       "    .dataframe tbody tr th {\n",
       "        vertical-align: top;\n",
       "    }\n",
       "\n",
       "    .dataframe thead th {\n",
       "        text-align: right;\n",
       "    }\n",
       "</style>\n",
       "<table border=\"1\" class=\"dataframe\">\n",
       "  <thead>\n",
       "    <tr style=\"text-align: right;\">\n",
       "      <th></th>\n",
       "      <th>Cabin</th>\n",
       "      <th>Cabin_numerical</th>\n",
       "      <th>Cabin_categorical</th>\n",
       "    </tr>\n",
       "  </thead>\n",
       "  <tbody>\n",
       "    <tr>\n",
       "      <th>0</th>\n",
       "      <td>NaN</td>\n",
       "      <td>NaN</td>\n",
       "      <td>NaN</td>\n",
       "    </tr>\n",
       "    <tr>\n",
       "      <th>1</th>\n",
       "      <td>NaN</td>\n",
       "      <td>NaN</td>\n",
       "      <td>NaN</td>\n",
       "    </tr>\n",
       "    <tr>\n",
       "      <th>2</th>\n",
       "      <td>NaN</td>\n",
       "      <td>NaN</td>\n",
       "      <td>NaN</td>\n",
       "    </tr>\n",
       "    <tr>\n",
       "      <th>3</th>\n",
       "      <td>NaN</td>\n",
       "      <td>NaN</td>\n",
       "      <td>NaN</td>\n",
       "    </tr>\n",
       "    <tr>\n",
       "      <th>4</th>\n",
       "      <td>NaN</td>\n",
       "      <td>NaN</td>\n",
       "      <td>NaN</td>\n",
       "    </tr>\n",
       "    <tr>\n",
       "      <th>5</th>\n",
       "      <td>NaN</td>\n",
       "      <td>NaN</td>\n",
       "      <td>NaN</td>\n",
       "    </tr>\n",
       "    <tr>\n",
       "      <th>6</th>\n",
       "      <td>NaN</td>\n",
       "      <td>NaN</td>\n",
       "      <td>NaN</td>\n",
       "    </tr>\n",
       "    <tr>\n",
       "      <th>7</th>\n",
       "      <td>NaN</td>\n",
       "      <td>NaN</td>\n",
       "      <td>NaN</td>\n",
       "    </tr>\n",
       "    <tr>\n",
       "      <th>8</th>\n",
       "      <td>NaN</td>\n",
       "      <td>NaN</td>\n",
       "      <td>NaN</td>\n",
       "    </tr>\n",
       "    <tr>\n",
       "      <th>9</th>\n",
       "      <td>NaN</td>\n",
       "      <td>NaN</td>\n",
       "      <td>NaN</td>\n",
       "    </tr>\n",
       "  </tbody>\n",
       "</table>\n",
       "</div>"
      ],
      "text/plain": [
       "  Cabin  Cabin_numerical Cabin_categorical\n",
       "0   NaN              NaN               NaN\n",
       "1   NaN              NaN               NaN\n",
       "2   NaN              NaN               NaN\n",
       "3   NaN              NaN               NaN\n",
       "4   NaN              NaN               NaN\n",
       "5   NaN              NaN               NaN\n",
       "6   NaN              NaN               NaN\n",
       "7   NaN              NaN               NaN\n",
       "8   NaN              NaN               NaN\n",
       "9   NaN              NaN               NaN"
      ]
     },
     "execution_count": 39,
     "metadata": {},
     "output_type": "execute_result"
    }
   ],
   "source": [
    "submission[[\"Cabin\", \"Cabin_numerical\",\"Cabin_categorical\"]].head(10)"
   ]
  },
  {
   "cell_type": "code",
   "execution_count": 40,
   "metadata": {},
   "outputs": [],
   "source": [
    "# drop the original variable\n",
    "data.drop(labels=\"Cabin\", inplace=True, axis=1)\n",
    "submission.drop(labels=\"Cabin\", inplace=True, axis=1)"
   ]
  },
  {
   "cell_type": "markdown",
   "metadata": {},
   "source": [
    "#### Ticket(for train data)"
   ]
  },
  {
   "cell_type": "code",
   "execution_count": 41,
   "metadata": {},
   "outputs": [
    {
     "data": {
      "text/plain": [
       "887"
      ]
     },
     "execution_count": 41,
     "metadata": {},
     "output_type": "execute_result"
    }
   ],
   "source": [
    "data[\"Ticket_numerical\"] = data[\"Ticket\"].apply(lambda s: s.split()[-1]) # extract the last bit of ticket as number\n",
    "data[\"Ticket\"].apply(lambda s: s.split()[-1]).str.isdigit().sum() # Some observations do not include the ticket number(887 vs 900) "
   ]
  },
  {
   "cell_type": "code",
   "execution_count": 42,
   "metadata": {},
   "outputs": [],
   "source": [
    "data[\"Ticket_numerical\"] = np.where(data[\"Ticket_numerical\"].str.isdigit(), data[\"Ticket_numerical\"], np.nan)\n",
    "data[\"Ticket_numerical\"] = data[\"Ticket_numerical\"].astype(\"float\")"
   ]
  },
  {
   "cell_type": "code",
   "execution_count": 43,
   "metadata": {},
   "outputs": [
    {
     "data": {
      "text/plain": [
       "661"
      ]
     },
     "execution_count": 43,
     "metadata": {},
     "output_type": "execute_result"
    }
   ],
   "source": [
    "data[\"Ticket_categorical\"]= data[\"Ticket\"].apply(lambda s: s.split()[0]) # extract the first part of ticket as category\n",
    "data[\"Ticket_categorical\"].str.isdigit().sum() # Some observations do not include the ticket category(661 vs 900)"
   ]
  },
  {
   "cell_type": "code",
   "execution_count": 44,
   "metadata": {},
   "outputs": [],
   "source": [
    "data[\"Ticket_categorical\"] = np.where(data[\"Ticket_categorical\"].str.isdigit(), np.nan, data[\"Ticket_categorical\"])"
   ]
  },
  {
   "cell_type": "markdown",
   "metadata": {},
   "source": [
    "#### Ticket(for test data)"
   ]
  },
  {
   "cell_type": "code",
   "execution_count": 45,
   "metadata": {},
   "outputs": [],
   "source": [
    "submission[\"Ticket_numerical\"] = submission[\"Ticket\"].apply(lambda s: s.split()[-1]) \n",
    "submission[\"Ticket_numerical\"] = np.where(submission[\"Ticket_numerical\"].str.isdigit(), submission[\"Ticket_numerical\"], np.nan)\n",
    "submission[\"Ticket_numerical\"] = submission[\"Ticket_numerical\"].astype(\"float\")\n",
    "\n",
    "submission[\"Ticket_categorical\"] = submission[\"Ticket\"].apply(lambda s: s.split()[0]) \n",
    "submission[\"Ticket_categorical\"] = np.where(submission[\"Ticket_categorical\"].str.isdigit(), np.nan, submission[\"Ticket_categorical\"])"
   ]
  },
  {
   "cell_type": "code",
   "execution_count": 46,
   "metadata": {},
   "outputs": [
    {
     "data": {
      "text/html": [
       "<div>\n",
       "<style scoped>\n",
       "    .dataframe tbody tr th:only-of-type {\n",
       "        vertical-align: middle;\n",
       "    }\n",
       "\n",
       "    .dataframe tbody tr th {\n",
       "        vertical-align: top;\n",
       "    }\n",
       "\n",
       "    .dataframe thead th {\n",
       "        text-align: right;\n",
       "    }\n",
       "</style>\n",
       "<table border=\"1\" class=\"dataframe\">\n",
       "  <thead>\n",
       "    <tr style=\"text-align: right;\">\n",
       "      <th></th>\n",
       "      <th>Ticket</th>\n",
       "      <th>Ticket_numerical</th>\n",
       "      <th>Ticket_categorical</th>\n",
       "    </tr>\n",
       "  </thead>\n",
       "  <tbody>\n",
       "    <tr>\n",
       "      <th>0</th>\n",
       "      <td>A/5 21171</td>\n",
       "      <td>21171.000</td>\n",
       "      <td>A/5</td>\n",
       "    </tr>\n",
       "    <tr>\n",
       "      <th>1</th>\n",
       "      <td>PC 17599</td>\n",
       "      <td>17599.000</td>\n",
       "      <td>PC</td>\n",
       "    </tr>\n",
       "    <tr>\n",
       "      <th>2</th>\n",
       "      <td>STON/O2. 3101282</td>\n",
       "      <td>3101282.000</td>\n",
       "      <td>STON/O2.</td>\n",
       "    </tr>\n",
       "    <tr>\n",
       "      <th>3</th>\n",
       "      <td>113803</td>\n",
       "      <td>113803.000</td>\n",
       "      <td>NaN</td>\n",
       "    </tr>\n",
       "    <tr>\n",
       "      <th>4</th>\n",
       "      <td>373450</td>\n",
       "      <td>373450.000</td>\n",
       "      <td>NaN</td>\n",
       "    </tr>\n",
       "    <tr>\n",
       "      <th>5</th>\n",
       "      <td>330877</td>\n",
       "      <td>330877.000</td>\n",
       "      <td>NaN</td>\n",
       "    </tr>\n",
       "    <tr>\n",
       "      <th>6</th>\n",
       "      <td>17463</td>\n",
       "      <td>17463.000</td>\n",
       "      <td>NaN</td>\n",
       "    </tr>\n",
       "    <tr>\n",
       "      <th>7</th>\n",
       "      <td>349909</td>\n",
       "      <td>349909.000</td>\n",
       "      <td>NaN</td>\n",
       "    </tr>\n",
       "    <tr>\n",
       "      <th>8</th>\n",
       "      <td>347742</td>\n",
       "      <td>347742.000</td>\n",
       "      <td>NaN</td>\n",
       "    </tr>\n",
       "    <tr>\n",
       "      <th>9</th>\n",
       "      <td>237736</td>\n",
       "      <td>237736.000</td>\n",
       "      <td>NaN</td>\n",
       "    </tr>\n",
       "  </tbody>\n",
       "</table>\n",
       "</div>"
      ],
      "text/plain": [
       "             Ticket  Ticket_numerical Ticket_categorical\n",
       "0         A/5 21171         21171.000                A/5\n",
       "1          PC 17599         17599.000                 PC\n",
       "2  STON/O2. 3101282       3101282.000           STON/O2.\n",
       "3            113803        113803.000                NaN\n",
       "4            373450        373450.000                NaN\n",
       "5            330877        330877.000                NaN\n",
       "6             17463         17463.000                NaN\n",
       "7            349909        349909.000                NaN\n",
       "8            347742        347742.000                NaN\n",
       "9            237736        237736.000                NaN"
      ]
     },
     "execution_count": 46,
     "metadata": {},
     "output_type": "execute_result"
    }
   ],
   "source": [
    "data[[\"Ticket\",\"Ticket_numerical\",\"Ticket_categorical\"]].head(10)"
   ]
  },
  {
   "cell_type": "code",
   "execution_count": 47,
   "metadata": {},
   "outputs": [
    {
     "data": {
      "text/html": [
       "<div>\n",
       "<style scoped>\n",
       "    .dataframe tbody tr th:only-of-type {\n",
       "        vertical-align: middle;\n",
       "    }\n",
       "\n",
       "    .dataframe tbody tr th {\n",
       "        vertical-align: top;\n",
       "    }\n",
       "\n",
       "    .dataframe thead th {\n",
       "        text-align: right;\n",
       "    }\n",
       "</style>\n",
       "<table border=\"1\" class=\"dataframe\">\n",
       "  <thead>\n",
       "    <tr style=\"text-align: right;\">\n",
       "      <th></th>\n",
       "      <th>Ticket</th>\n",
       "      <th>Ticket_numerical</th>\n",
       "      <th>Ticket_categorical</th>\n",
       "    </tr>\n",
       "  </thead>\n",
       "  <tbody>\n",
       "    <tr>\n",
       "      <th>0</th>\n",
       "      <td>330911</td>\n",
       "      <td>330911.000</td>\n",
       "      <td>NaN</td>\n",
       "    </tr>\n",
       "    <tr>\n",
       "      <th>1</th>\n",
       "      <td>363272</td>\n",
       "      <td>363272.000</td>\n",
       "      <td>NaN</td>\n",
       "    </tr>\n",
       "    <tr>\n",
       "      <th>2</th>\n",
       "      <td>240276</td>\n",
       "      <td>240276.000</td>\n",
       "      <td>NaN</td>\n",
       "    </tr>\n",
       "    <tr>\n",
       "      <th>3</th>\n",
       "      <td>315154</td>\n",
       "      <td>315154.000</td>\n",
       "      <td>NaN</td>\n",
       "    </tr>\n",
       "    <tr>\n",
       "      <th>4</th>\n",
       "      <td>3101298</td>\n",
       "      <td>3101298.000</td>\n",
       "      <td>NaN</td>\n",
       "    </tr>\n",
       "    <tr>\n",
       "      <th>5</th>\n",
       "      <td>7538</td>\n",
       "      <td>7538.000</td>\n",
       "      <td>NaN</td>\n",
       "    </tr>\n",
       "    <tr>\n",
       "      <th>6</th>\n",
       "      <td>330972</td>\n",
       "      <td>330972.000</td>\n",
       "      <td>NaN</td>\n",
       "    </tr>\n",
       "    <tr>\n",
       "      <th>7</th>\n",
       "      <td>248738</td>\n",
       "      <td>248738.000</td>\n",
       "      <td>NaN</td>\n",
       "    </tr>\n",
       "    <tr>\n",
       "      <th>8</th>\n",
       "      <td>2657</td>\n",
       "      <td>2657.000</td>\n",
       "      <td>NaN</td>\n",
       "    </tr>\n",
       "    <tr>\n",
       "      <th>9</th>\n",
       "      <td>A/4 48871</td>\n",
       "      <td>48871.000</td>\n",
       "      <td>A/4</td>\n",
       "    </tr>\n",
       "  </tbody>\n",
       "</table>\n",
       "</div>"
      ],
      "text/plain": [
       "      Ticket  Ticket_numerical Ticket_categorical\n",
       "0     330911        330911.000                NaN\n",
       "1     363272        363272.000                NaN\n",
       "2     240276        240276.000                NaN\n",
       "3     315154        315154.000                NaN\n",
       "4    3101298       3101298.000                NaN\n",
       "5       7538          7538.000                NaN\n",
       "6     330972        330972.000                NaN\n",
       "7     248738        248738.000                NaN\n",
       "8       2657          2657.000                NaN\n",
       "9  A/4 48871         48871.000                A/4"
      ]
     },
     "execution_count": 47,
     "metadata": {},
     "output_type": "execute_result"
    }
   ],
   "source": [
    "submission[[\"Ticket\",\"Ticket_numerical\",\"Ticket_categorical\"]].head(10)"
   ]
  },
  {
   "cell_type": "code",
   "execution_count": 48,
   "metadata": {},
   "outputs": [],
   "source": [
    "# drop the original variable\n",
    "data.drop(labels=\"Ticket\", inplace=True, axis=1)\n",
    "submission.drop(labels=\"Ticket\", inplace=True, axis=1)"
   ]
  },
  {
   "cell_type": "markdown",
   "metadata": {},
   "source": [
    "#### transform Ticket_categorical(for train data)"
   ]
  },
  {
   "cell_type": "code",
   "execution_count": 49,
   "metadata": {},
   "outputs": [
    {
     "data": {
      "text/plain": [
       "array(['A/5', 'PC', 'STON/O2.', nan, 'PP', 'A/5.', 'C.A.', 'A./5.',\n",
       "       'SC/Paris', 'S.C./A.4.', 'A/4.', 'CA', 'S.P.', 'S.O.C.', 'SO/C',\n",
       "       'W./C.', 'SOTON/OQ', 'W.E.P.', 'STON/O', 'A4.', 'C', 'SOTON/O.Q.',\n",
       "       'SC/PARIS', 'S.O.P.', 'A.5.', 'Fa', 'CA.', 'LINE', 'F.C.C.', 'W/C',\n",
       "       'SW/PP', 'SCO/W', 'P/PP', 'SC', 'SC/AH', 'A/S', 'A/4', 'WE/P',\n",
       "       'S.W./PP', 'S.O./P.P.', 'F.C.', 'SOTON/O2', 'S.C./PARIS',\n",
       "       'C.A./SOTON'], dtype=object)"
      ]
     },
     "execution_count": 49,
     "metadata": {},
     "output_type": "execute_result"
    }
   ],
   "source": [
    "data[\"Ticket_categorical\"].unique()"
   ]
  },
  {
   "cell_type": "code",
   "execution_count": 50,
   "metadata": {},
   "outputs": [
    {
     "data": {
      "text/plain": [
       "0          A\n",
       "1         PC\n",
       "2      STONO\n",
       "3        nan\n",
       "4        nan\n",
       "       ...  \n",
       "886      nan\n",
       "887      nan\n",
       "888       WC\n",
       "889      nan\n",
       "890      nan\n",
       "Name: Ticket_categorical, Length: 891, dtype: object"
      ]
     },
     "execution_count": 50,
     "metadata": {},
     "output_type": "execute_result"
    }
   ],
   "source": [
    "# remove non letter characters from string\n",
    "# for text / string processing\n",
    "import re\n",
    "\n",
    "non_letter = data[\"Ticket_categorical\"].apply(lambda x: re.sub(\"[^a-zA-Z]\", \"\", str(x)))\n",
    "non_letter"
   ]
  },
  {
   "cell_type": "code",
   "execution_count": 51,
   "metadata": {},
   "outputs": [
    {
     "data": {
      "text/html": [
       "<div>\n",
       "<style scoped>\n",
       "    .dataframe tbody tr th:only-of-type {\n",
       "        vertical-align: middle;\n",
       "    }\n",
       "\n",
       "    .dataframe tbody tr th {\n",
       "        vertical-align: top;\n",
       "    }\n",
       "\n",
       "    .dataframe thead th {\n",
       "        text-align: right;\n",
       "    }\n",
       "</style>\n",
       "<table border=\"1\" class=\"dataframe\">\n",
       "  <thead>\n",
       "    <tr style=\"text-align: right;\">\n",
       "      <th></th>\n",
       "      <th>Ticket_categorical</th>\n",
       "      <th>Ticket_categorical</th>\n",
       "    </tr>\n",
       "  </thead>\n",
       "  <tbody>\n",
       "    <tr>\n",
       "      <th>0</th>\n",
       "      <td>A</td>\n",
       "      <td>A/5</td>\n",
       "    </tr>\n",
       "    <tr>\n",
       "      <th>1</th>\n",
       "      <td>PC</td>\n",
       "      <td>PC</td>\n",
       "    </tr>\n",
       "    <tr>\n",
       "      <th>2</th>\n",
       "      <td>STONO</td>\n",
       "      <td>STON/O2.</td>\n",
       "    </tr>\n",
       "    <tr>\n",
       "      <th>3</th>\n",
       "      <td>nan</td>\n",
       "      <td>NaN</td>\n",
       "    </tr>\n",
       "    <tr>\n",
       "      <th>4</th>\n",
       "      <td>nan</td>\n",
       "      <td>NaN</td>\n",
       "    </tr>\n",
       "    <tr>\n",
       "      <th>5</th>\n",
       "      <td>nan</td>\n",
       "      <td>NaN</td>\n",
       "    </tr>\n",
       "    <tr>\n",
       "      <th>6</th>\n",
       "      <td>nan</td>\n",
       "      <td>NaN</td>\n",
       "    </tr>\n",
       "    <tr>\n",
       "      <th>7</th>\n",
       "      <td>nan</td>\n",
       "      <td>NaN</td>\n",
       "    </tr>\n",
       "    <tr>\n",
       "      <th>8</th>\n",
       "      <td>nan</td>\n",
       "      <td>NaN</td>\n",
       "    </tr>\n",
       "    <tr>\n",
       "      <th>9</th>\n",
       "      <td>nan</td>\n",
       "      <td>NaN</td>\n",
       "    </tr>\n",
       "  </tbody>\n",
       "</table>\n",
       "</div>"
      ],
      "text/plain": [
       "  Ticket_categorical Ticket_categorical\n",
       "0                  A                A/5\n",
       "1                 PC                 PC\n",
       "2              STONO           STON/O2.\n",
       "3                nan                NaN\n",
       "4                nan                NaN\n",
       "5                nan                NaN\n",
       "6                nan                NaN\n",
       "7                nan                NaN\n",
       "8                nan                NaN\n",
       "9                nan                NaN"
      ]
     },
     "execution_count": 51,
     "metadata": {},
     "output_type": "execute_result"
    }
   ],
   "source": [
    "# compare two variables\n",
    "pd.concat([non_letter, data[\"Ticket_categorical\"]], axis=1).head(10)"
   ]
  },
  {
   "cell_type": "code",
   "execution_count": 52,
   "metadata": {},
   "outputs": [
    {
     "data": {
      "text/plain": [
       "array(['A', 'PC', 'STONO', 'NAN', 'PP', 'CA', 'SCPARIS', 'SCA', 'SP',\n",
       "       'SOC', 'WC', 'SOTONOQ', 'WEP', 'C', 'SOP', 'FA', 'LINE', 'FCC',\n",
       "       'SWPP', 'SCOW', 'PPP', 'SC', 'SCAH', 'AS', 'SOPP', 'FC', 'SOTONO',\n",
       "       'CASOTON'], dtype=object)"
      ]
     },
     "execution_count": 52,
     "metadata": {},
     "output_type": "execute_result"
    }
   ],
   "source": [
    "non_letter = non_letter.str.upper()\n",
    "non_letter.unique()"
   ]
  },
  {
   "cell_type": "code",
   "execution_count": 53,
   "metadata": {},
   "outputs": [],
   "source": [
    "# change ticket categorical to reduced new variable\n",
    "data[\"Ticket_categorical\"] = non_letter"
   ]
  },
  {
   "cell_type": "code",
   "execution_count": 54,
   "metadata": {},
   "outputs": [],
   "source": [
    "categorical.remove(\"Ticket\")\n",
    "categorical.append(\"Ticket_categorical\")\n",
    "continuous.append(\"Ticket_numerical\")"
   ]
  },
  {
   "cell_type": "markdown",
   "metadata": {},
   "source": [
    "#### transform Ticket_categorical(for test data)"
   ]
  },
  {
   "cell_type": "code",
   "execution_count": 55,
   "metadata": {},
   "outputs": [],
   "source": [
    "submission[\"Ticket_categorical\"] = submission[\"Ticket_categorical\"].apply(lambda x: re.sub(\"[^a-zA-Z]\", '', str(x)))\n",
    "submission[\"Ticket_categorical\"] = submission[\"Ticket_categorical\"].str.upper()"
   ]
  },
  {
   "cell_type": "markdown",
   "metadata": {},
   "source": [
    "#### Extract title for Name variable(train data)"
   ]
  },
  {
   "cell_type": "code",
   "execution_count": 56,
   "metadata": {},
   "outputs": [],
   "source": [
    "# extracts the title from the name variable\n",
    "def get_title(passenger):\n",
    "    line = passenger\n",
    "    if re.search(\"Mrs\", line):\n",
    "        return \"Mrs\"\n",
    "    elif re.search(\"Mr\", line):\n",
    "        return \"Mr\"\n",
    "    elif re.search(\"Miss\", line):\n",
    "        return \"Miss\"\n",
    "    elif re.search(\"Master\", line):\n",
    "        return \"Master\"\n",
    "    else:\n",
    "        return \"Other\""
   ]
  },
  {
   "cell_type": "code",
   "execution_count": 57,
   "metadata": {},
   "outputs": [
    {
     "data": {
      "text/plain": [
       "0         Mr\n",
       "1        Mrs\n",
       "2       Miss\n",
       "3        Mrs\n",
       "4         Mr\n",
       "       ...  \n",
       "886    Other\n",
       "887     Miss\n",
       "888     Miss\n",
       "889       Mr\n",
       "890       Mr\n",
       "Name: Name, Length: 891, dtype: object"
      ]
     },
     "execution_count": 57,
     "metadata": {},
     "output_type": "execute_result"
    }
   ],
   "source": [
    "data[\"Name\"].apply(get_title)"
   ]
  },
  {
   "cell_type": "code",
   "execution_count": 58,
   "metadata": {},
   "outputs": [],
   "source": [
    "data[\"Title\"] = data[\"Name\"].apply(get_title)"
   ]
  },
  {
   "cell_type": "code",
   "execution_count": 59,
   "metadata": {},
   "outputs": [
    {
     "data": {
      "text/html": [
       "<div>\n",
       "<style scoped>\n",
       "    .dataframe tbody tr th:only-of-type {\n",
       "        vertical-align: middle;\n",
       "    }\n",
       "\n",
       "    .dataframe tbody tr th {\n",
       "        vertical-align: top;\n",
       "    }\n",
       "\n",
       "    .dataframe thead th {\n",
       "        text-align: right;\n",
       "    }\n",
       "</style>\n",
       "<table border=\"1\" class=\"dataframe\">\n",
       "  <thead>\n",
       "    <tr style=\"text-align: right;\">\n",
       "      <th></th>\n",
       "      <th>Name</th>\n",
       "      <th>Title</th>\n",
       "    </tr>\n",
       "  </thead>\n",
       "  <tbody>\n",
       "    <tr>\n",
       "      <th>0</th>\n",
       "      <td>Braund, Mr. Owen Harris</td>\n",
       "      <td>Mr</td>\n",
       "    </tr>\n",
       "    <tr>\n",
       "      <th>1</th>\n",
       "      <td>Cumings, Mrs. John Bradley (Florence Briggs Th...</td>\n",
       "      <td>Mrs</td>\n",
       "    </tr>\n",
       "    <tr>\n",
       "      <th>2</th>\n",
       "      <td>Heikkinen, Miss. Laina</td>\n",
       "      <td>Miss</td>\n",
       "    </tr>\n",
       "    <tr>\n",
       "      <th>3</th>\n",
       "      <td>Futrelle, Mrs. Jacques Heath (Lily May Peel)</td>\n",
       "      <td>Mrs</td>\n",
       "    </tr>\n",
       "    <tr>\n",
       "      <th>4</th>\n",
       "      <td>Allen, Mr. William Henry</td>\n",
       "      <td>Mr</td>\n",
       "    </tr>\n",
       "    <tr>\n",
       "      <th>5</th>\n",
       "      <td>Moran, Mr. James</td>\n",
       "      <td>Mr</td>\n",
       "    </tr>\n",
       "    <tr>\n",
       "      <th>6</th>\n",
       "      <td>McCarthy, Mr. Timothy J</td>\n",
       "      <td>Mr</td>\n",
       "    </tr>\n",
       "    <tr>\n",
       "      <th>7</th>\n",
       "      <td>Palsson, Master. Gosta Leonard</td>\n",
       "      <td>Master</td>\n",
       "    </tr>\n",
       "    <tr>\n",
       "      <th>8</th>\n",
       "      <td>Johnson, Mrs. Oscar W (Elisabeth Vilhelmina Berg)</td>\n",
       "      <td>Mrs</td>\n",
       "    </tr>\n",
       "    <tr>\n",
       "      <th>9</th>\n",
       "      <td>Nasser, Mrs. Nicholas (Adele Achem)</td>\n",
       "      <td>Mrs</td>\n",
       "    </tr>\n",
       "  </tbody>\n",
       "</table>\n",
       "</div>"
      ],
      "text/plain": [
       "                                                Name   Title\n",
       "0                            Braund, Mr. Owen Harris      Mr\n",
       "1  Cumings, Mrs. John Bradley (Florence Briggs Th...     Mrs\n",
       "2                             Heikkinen, Miss. Laina    Miss\n",
       "3       Futrelle, Mrs. Jacques Heath (Lily May Peel)     Mrs\n",
       "4                           Allen, Mr. William Henry      Mr\n",
       "5                                   Moran, Mr. James      Mr\n",
       "6                            McCarthy, Mr. Timothy J      Mr\n",
       "7                     Palsson, Master. Gosta Leonard  Master\n",
       "8  Johnson, Mrs. Oscar W (Elisabeth Vilhelmina Berg)     Mrs\n",
       "9                Nasser, Mrs. Nicholas (Adele Achem)     Mrs"
      ]
     },
     "execution_count": 59,
     "metadata": {},
     "output_type": "execute_result"
    }
   ],
   "source": [
    "data[[\"Name\", \"Title\"]].head(10)"
   ]
  },
  {
   "cell_type": "code",
   "execution_count": 60,
   "metadata": {},
   "outputs": [],
   "source": [
    "categorical.remove(\"Name\")\n",
    "categorical.append(\"Title\")"
   ]
  },
  {
   "cell_type": "markdown",
   "metadata": {},
   "source": [
    "#### Extract title for Name variable(test data)"
   ]
  },
  {
   "cell_type": "code",
   "execution_count": 61,
   "metadata": {},
   "outputs": [],
   "source": [
    "submission[\"Title\"] = submission[\"Name\"].apply(get_title)"
   ]
  },
  {
   "cell_type": "code",
   "execution_count": 62,
   "metadata": {},
   "outputs": [],
   "source": [
    "# drop the original variable\n",
    "data.drop(labels=\"Name\", inplace=True, axis=1)\n",
    "submission.drop(labels=\"Name\", inplace=True, axis=1)"
   ]
  },
  {
   "cell_type": "markdown",
   "metadata": {},
   "source": [
    "### feature engineering(new variables added for increase accuracy)"
   ]
  },
  {
   "cell_type": "markdown",
   "metadata": {},
   "source": [
    "**SibSp**: This variable indicates the number of of siblings / spouses aboard the Titanic.\n",
    "\n",
    "**Parch**: This variable indicates the number of parents / children aboard the Titanic.\n",
    "\n",
    "**Family size**: sums siblings and parents(include passeneger)"
   ]
  },
  {
   "cell_type": "code",
   "execution_count": 63,
   "metadata": {},
   "outputs": [],
   "source": [
    "data[\"Family_size\"] = data[\"SibSp\"]+data[\"Parch\"]+1\n",
    "\n",
    "submission[\"Family_size\"] = submission[\"SibSp\"]+submission[\"Parch\"]+1"
   ]
  },
  {
   "cell_type": "code",
   "execution_count": 64,
   "metadata": {},
   "outputs": [],
   "source": [
    "discrete.append(\"Family_size\")"
   ]
  },
  {
   "cell_type": "code",
   "execution_count": 65,
   "metadata": {},
   "outputs": [
    {
     "name": "stdout",
     "output_type": "stream",
     "text": [
      "Family_size\n",
      "1    0.603\n",
      "2    0.181\n",
      "3    0.114\n",
      "4    0.033\n",
      "5    0.017\n",
      "6    0.025\n",
      "7    0.013\n",
      "8    0.007\n",
      "11   0.008\n",
      "Name: Family_size, dtype: float64\n",
      "\n"
     ]
    }
   ],
   "source": [
    "for cols in [\"Family_size\"]:\n",
    "    print(data.groupby(cols)[cols].count() / len(data))\n",
    "    print()"
   ]
  },
  {
   "cell_type": "markdown",
   "metadata": {},
   "source": [
    "### Check newly created variables"
   ]
  },
  {
   "cell_type": "markdown",
   "metadata": {},
   "source": [
    "#### New continuous and discrete variables: Missing values"
   ]
  },
  {
   "cell_type": "code",
   "execution_count": 66,
   "metadata": {},
   "outputs": [
    {
     "data": {
      "text/plain": [
       "Cabin_numerical    0.776\n",
       "Ticket_numerical   0.004\n",
       "Family_size        0.000\n",
       "dtype: float64"
      ]
     },
     "execution_count": 66,
     "metadata": {},
     "output_type": "execute_result"
    }
   ],
   "source": [
    "data[[\"Cabin_numerical\", \"Ticket_numerical\",\"Family_size\"]].isna().sum() / data.shape[0]"
   ]
  },
  {
   "cell_type": "markdown",
   "metadata": {},
   "source": [
    "same amount of missing data in cabin_numerical than the original variable Cabin.\n",
    "\n",
    "small percentage of missing values in ticket_numerical"
   ]
  },
  {
   "cell_type": "markdown",
   "metadata": {},
   "source": [
    "#### New continuous variables: Outliers and Distributions(Univariate)"
   ]
  },
  {
   "cell_type": "code",
   "execution_count": 67,
   "metadata": {},
   "outputs": [
    {
     "data": {
      "image/png": "[encoded data removed]",
      "text/plain": [
       "<Figure size 864x432 with 2 Axes>"
      ]
     },
     "metadata": {
      "needs_background": "light"
     },
     "output_type": "display_data"
    },
    {
     "data": {
      "image/png": "[encoded data removed]",
      "text/plain": [
       "<Figure size 864x432 with 2 Axes>"
      ]
     },
     "metadata": {
      "needs_background": "light"
     },
     "output_type": "display_data"
    }
   ],
   "source": [
    "for var in [\"Cabin_numerical\",\"Ticket_numerical\"]:\n",
    "    plt.figure(figsize=(12,6))\n",
    "    plt.subplot(1, 2, 1)\n",
    "    fig = data.boxplot(column=var,grid=False)\n",
    "    fig.set_ylabel(var)\n",
    "    \n",
    "    plt.subplot(1, 2, 2)\n",
    "    fig=sns.distplot(data[var], kde=True)\n",
    "    fig.set_xlabel(var)\n",
    "\n",
    "    plt.show()"
   ]
  },
  {
   "cell_type": "markdown",
   "metadata": {},
   "source": [
    "- Cabin_numerical does not contain outliers\n",
    "\n",
    "\n",
    "- Ticket_numerical seems to contain a few outliers.i will use discretisation for this variable"
   ]
  },
  {
   "cell_type": "code",
   "execution_count": 68,
   "metadata": {},
   "outputs": [
    {
     "data": {
      "image/png": "[encoded data removed]",
      "text/plain": [
       "<Figure size 360x360 with 2 Axes>"
      ]
     },
     "metadata": {
      "needs_background": "light"
     },
     "output_type": "display_data"
    }
   ],
   "source": [
    "columns = continuous\n",
    "\n",
    "plt.figure(figsize=(5,5))\n",
    "sns.heatmap(data[columns].corr(),cmap=\"RdBu\",annot=True,fmt=\".2f\")\n",
    "plt.show()"
   ]
  },
  {
   "cell_type": "markdown",
   "metadata": {},
   "source": [
    "#### New categorical variables: Missing values"
   ]
  },
  {
   "cell_type": "code",
   "execution_count": 69,
   "metadata": {},
   "outputs": [
    {
     "data": {
      "text/plain": [
       "Cabin_categorical    0.771\n",
       "Ticket_categorical   0.000\n",
       "Title                0.000\n",
       "dtype: float64"
      ]
     },
     "execution_count": 69,
     "metadata": {},
     "output_type": "execute_result"
    }
   ],
   "source": [
    "data[[\"Cabin_categorical\", \"Ticket_categorical\", \"Title\"]].isna().sum() / data.shape[0]"
   ]
  },
  {
   "cell_type": "markdown",
   "metadata": {},
   "source": [
    "same amount of missing data in cabin_categorical than the original variable Cabin"
   ]
  },
  {
   "cell_type": "markdown",
   "metadata": {},
   "source": [
    "#### New categorical variables: labels and rare values"
   ]
  },
  {
   "cell_type": "code",
   "execution_count": 70,
   "metadata": {},
   "outputs": [
    {
     "name": "stdout",
     "output_type": "stream",
     "text": [
      "C   0.066\n",
      "B   0.053\n",
      "D   0.037\n",
      "E   0.036\n",
      "A   0.017\n",
      "F   0.015\n",
      "G   0.004\n",
      "T   0.001\n",
      "Name: Cabin_categorical, dtype: float64\n",
      "\n",
      "NAN       0.742\n",
      "PC        0.067\n",
      "CA        0.046\n",
      "A         0.031\n",
      "STONO     0.020\n",
      "SOTONOQ   0.017\n",
      "SCPARIS   0.012\n",
      "WC        0.011\n",
      "SOC       0.007\n",
      "FCC       0.006\n",
      "C         0.006\n",
      "LINE      0.004\n",
      "PP        0.003\n",
      "SCAH      0.003\n",
      "WEP       0.003\n",
      "SOPP      0.003\n",
      "SWPP      0.002\n",
      "SOTONO    0.002\n",
      "PPP       0.002\n",
      "SOP       0.001\n",
      "FA        0.001\n",
      "SCA       0.001\n",
      "SP        0.001\n",
      "SC        0.001\n",
      "SCOW      0.001\n",
      "FC        0.001\n",
      "CASOTON   0.001\n",
      "AS        0.001\n",
      "Name: Ticket_categorical, dtype: float64\n",
      "\n",
      "Mr       0.581\n",
      "Miss     0.202\n",
      "Mrs      0.145\n",
      "Master   0.045\n",
      "Other    0.027\n",
      "Name: Title, dtype: float64\n",
      "\n"
     ]
    }
   ],
   "source": [
    "# rare / unfrequent labels (less than 1% of passengers)\n",
    "for var in [\"Cabin_categorical\", \"Ticket_categorical\", \"Title\"]:\n",
    "    print(data[var].value_counts() / (len(data)))\n",
    "    print()"
   ]
  },
  {
   "cell_type": "markdown",
   "metadata": {},
   "source": [
    "Cabin_categorical contains 9 labels\n",
    "\n",
    "Ticket_categorical contains 28 labels\n",
    "\n",
    "Title contains 5 labels"
   ]
  },
  {
   "cell_type": "markdown",
   "metadata": {},
   "source": [
    "- Cabin contains the rare labels G and T\n",
    "\n",
    "- Ticket contains a lot of unfrequent labels\n",
    "\n",
    "- Title does not contain rare labels"
   ]
  },
  {
   "cell_type": "code",
   "execution_count": 71,
   "metadata": {},
   "outputs": [
    {
     "data": {
      "text/html": [
       "<div>\n",
       "<style scoped>\n",
       "    .dataframe tbody tr th:only-of-type {\n",
       "        vertical-align: middle;\n",
       "    }\n",
       "\n",
       "    .dataframe tbody tr th {\n",
       "        vertical-align: top;\n",
       "    }\n",
       "\n",
       "    .dataframe thead th {\n",
       "        text-align: right;\n",
       "    }\n",
       "</style>\n",
       "<table border=\"1\" class=\"dataframe\">\n",
       "  <thead>\n",
       "    <tr style=\"text-align: right;\">\n",
       "      <th></th>\n",
       "      <th>PassengerId</th>\n",
       "      <th>Survived</th>\n",
       "      <th>Pclass</th>\n",
       "      <th>Sex</th>\n",
       "      <th>Age</th>\n",
       "      <th>SibSp</th>\n",
       "      <th>Parch</th>\n",
       "      <th>Fare</th>\n",
       "      <th>Embarked</th>\n",
       "      <th>Cabin_numerical</th>\n",
       "      <th>Cabin_categorical</th>\n",
       "      <th>Ticket_numerical</th>\n",
       "      <th>Ticket_categorical</th>\n",
       "      <th>Title</th>\n",
       "      <th>Family_size</th>\n",
       "    </tr>\n",
       "  </thead>\n",
       "  <tbody>\n",
       "    <tr>\n",
       "      <th>0</th>\n",
       "      <td>1</td>\n",
       "      <td>0</td>\n",
       "      <td>3</td>\n",
       "      <td>male</td>\n",
       "      <td>22.000</td>\n",
       "      <td>1</td>\n",
       "      <td>0</td>\n",
       "      <td>7.250</td>\n",
       "      <td>S</td>\n",
       "      <td>NaN</td>\n",
       "      <td>NaN</td>\n",
       "      <td>21171.000</td>\n",
       "      <td>A</td>\n",
       "      <td>Mr</td>\n",
       "      <td>2</td>\n",
       "    </tr>\n",
       "    <tr>\n",
       "      <th>1</th>\n",
       "      <td>2</td>\n",
       "      <td>1</td>\n",
       "      <td>1</td>\n",
       "      <td>female</td>\n",
       "      <td>38.000</td>\n",
       "      <td>1</td>\n",
       "      <td>0</td>\n",
       "      <td>71.283</td>\n",
       "      <td>C</td>\n",
       "      <td>85.000</td>\n",
       "      <td>C</td>\n",
       "      <td>17599.000</td>\n",
       "      <td>PC</td>\n",
       "      <td>Mrs</td>\n",
       "      <td>2</td>\n",
       "    </tr>\n",
       "    <tr>\n",
       "      <th>2</th>\n",
       "      <td>3</td>\n",
       "      <td>1</td>\n",
       "      <td>3</td>\n",
       "      <td>female</td>\n",
       "      <td>26.000</td>\n",
       "      <td>0</td>\n",
       "      <td>0</td>\n",
       "      <td>7.925</td>\n",
       "      <td>S</td>\n",
       "      <td>NaN</td>\n",
       "      <td>NaN</td>\n",
       "      <td>3101282.000</td>\n",
       "      <td>STONO</td>\n",
       "      <td>Miss</td>\n",
       "      <td>1</td>\n",
       "    </tr>\n",
       "    <tr>\n",
       "      <th>3</th>\n",
       "      <td>4</td>\n",
       "      <td>1</td>\n",
       "      <td>1</td>\n",
       "      <td>female</td>\n",
       "      <td>35.000</td>\n",
       "      <td>1</td>\n",
       "      <td>0</td>\n",
       "      <td>53.100</td>\n",
       "      <td>S</td>\n",
       "      <td>123.000</td>\n",
       "      <td>C</td>\n",
       "      <td>113803.000</td>\n",
       "      <td>NAN</td>\n",
       "      <td>Mrs</td>\n",
       "      <td>2</td>\n",
       "    </tr>\n",
       "    <tr>\n",
       "      <th>4</th>\n",
       "      <td>5</td>\n",
       "      <td>0</td>\n",
       "      <td>3</td>\n",
       "      <td>male</td>\n",
       "      <td>35.000</td>\n",
       "      <td>0</td>\n",
       "      <td>0</td>\n",
       "      <td>8.050</td>\n",
       "      <td>S</td>\n",
       "      <td>NaN</td>\n",
       "      <td>NaN</td>\n",
       "      <td>373450.000</td>\n",
       "      <td>NAN</td>\n",
       "      <td>Mr</td>\n",
       "      <td>1</td>\n",
       "    </tr>\n",
       "  </tbody>\n",
       "</table>\n",
       "</div>"
      ],
      "text/plain": [
       "   PassengerId  Survived  Pclass     Sex    Age  SibSp  Parch   Fare Embarked  \\\n",
       "0            1         0       3    male 22.000      1      0  7.250        S   \n",
       "1            2         1       1  female 38.000      1      0 71.283        C   \n",
       "2            3         1       3  female 26.000      0      0  7.925        S   \n",
       "3            4         1       1  female 35.000      1      0 53.100        S   \n",
       "4            5         0       3    male 35.000      0      0  8.050        S   \n",
       "\n",
       "   Cabin_numerical Cabin_categorical  Ticket_numerical Ticket_categorical  \\\n",
       "0              NaN               NaN         21171.000                  A   \n",
       "1           85.000                 C         17599.000                 PC   \n",
       "2              NaN               NaN       3101282.000              STONO   \n",
       "3          123.000                 C        113803.000                NAN   \n",
       "4              NaN               NaN        373450.000                NAN   \n",
       "\n",
       "  Title  Family_size  \n",
       "0    Mr            2  \n",
       "1   Mrs            2  \n",
       "2  Miss            1  \n",
       "3   Mrs            2  \n",
       "4    Mr            1  "
      ]
     },
     "execution_count": 71,
     "metadata": {},
     "output_type": "execute_result"
    }
   ],
   "source": [
    "data.head()"
   ]
  },
  {
   "cell_type": "markdown",
   "metadata": {},
   "source": [
    "### Separate train and test set"
   ]
  },
  {
   "cell_type": "code",
   "execution_count": 72,
   "metadata": {},
   "outputs": [
    {
     "data": {
      "text/plain": [
       "((712, 15), (179, 15))"
      ]
     },
     "execution_count": 72,
     "metadata": {},
     "output_type": "execute_result"
    }
   ],
   "source": [
    "from sklearn.model_selection import train_test_split\n",
    "\n",
    "X_train, X_test, y_train, y_test = train_test_split(data, data[\"Survived\"], test_size=0.2,random_state=123)\n",
    "                                                    \n",
    "X_train.shape, X_test.shape"
   ]
  },
  {
   "cell_type": "markdown",
   "metadata": {},
   "source": [
    "### deal with missing values"
   ]
  },
  {
   "cell_type": "code",
   "execution_count": 73,
   "metadata": {},
   "outputs": [
    {
     "name": "stdout",
     "output_type": "stream",
     "text": [
      "Age 0.208\n",
      "Cabin_numerical 0.785\n",
      "Ticket_numerical 0.006\n"
     ]
    }
   ],
   "source": [
    "#### missing values in continous + discrete\n",
    "\n",
    "for col in continuous+discrete:\n",
    "    if X_train[col].isna().mean()>0:\n",
    "        print(col, round(X_train[col].isnull().mean(),3))"
   ]
  },
  {
   "cell_type": "markdown",
   "metadata": {},
   "source": [
    "Age and Cabin_numerical contains : we used median imputation + additional variable with NA\n",
    "\n",
    "Ticket_numerical contains: we used median imputation"
   ]
  },
  {
   "cell_type": "code",
   "execution_count": 74,
   "metadata": {},
   "outputs": [],
   "source": [
    "# add variable indicating missingness + median imputation\n",
    "for df in [X_train, X_test, submission]:\n",
    "    for var in [\"Age\", \"Cabin_numerical\"]:\n",
    "        df[var+\"_NA\"] = np.where(df[var].isnull(), 1, 0)\n",
    "        df[var].fillna(X_train[var].median(), inplace=True)\n",
    "\n",
    "for df in [X_train, X_test, submission]:\n",
    "    df[\"Ticket_numerical\"].fillna(X_train[\"Ticket_numerical\"].median(), inplace=True)        "
   ]
  },
  {
   "cell_type": "code",
   "execution_count": 75,
   "metadata": {},
   "outputs": [
    {
     "data": {
      "text/plain": [
       "0"
      ]
     },
     "execution_count": 75,
     "metadata": {},
     "output_type": "execute_result"
    }
   ],
   "source": [
    "X_train[continuous+discrete].isna().sum().sum()"
   ]
  },
  {
   "cell_type": "code",
   "execution_count": 76,
   "metadata": {},
   "outputs": [
    {
     "data": {
      "text/plain": [
       "0"
      ]
     },
     "execution_count": 76,
     "metadata": {},
     "output_type": "execute_result"
    }
   ],
   "source": [
    "X_test[continuous+discrete].isna().sum().sum()"
   ]
  },
  {
   "cell_type": "code",
   "execution_count": 77,
   "metadata": {},
   "outputs": [
    {
     "data": {
      "text/plain": [
       "1"
      ]
     },
     "execution_count": 77,
     "metadata": {},
     "output_type": "execute_result"
    }
   ],
   "source": [
    "submission[continuous+discrete].isna().sum().sum()"
   ]
  },
  {
   "cell_type": "code",
   "execution_count": 78,
   "metadata": {},
   "outputs": [
    {
     "name": "stdout",
     "output_type": "stream",
     "text": [
      "Fare 1\n"
     ]
    }
   ],
   "source": [
    "# check missing values in submission dataset that did not show NA in training datset(except categorical)\n",
    "submission_vars = []\n",
    "for var in X_train[continuous+discrete]:\n",
    "    if submission[var].isna().sum()>0:\n",
    "        print(var, submission[var].isna().sum())\n",
    "        submission_vars.append(var)"
   ]
  },
  {
   "cell_type": "code",
   "execution_count": 79,
   "metadata": {},
   "outputs": [],
   "source": [
    "# Fill NA with median value for those variables that show NA only in the submission set\n",
    "for var in submission_vars:\n",
    "    submission[var].fillna(X_train[var].median(), inplace=True)"
   ]
  },
  {
   "cell_type": "code",
   "execution_count": 80,
   "metadata": {},
   "outputs": [
    {
     "data": {
      "text/plain": [
       "0"
      ]
     },
     "execution_count": 80,
     "metadata": {},
     "output_type": "execute_result"
    }
   ],
   "source": [
    "submission[continuous+discrete].isna().sum().sum()"
   ]
  },
  {
   "cell_type": "code",
   "execution_count": 81,
   "metadata": {},
   "outputs": [
    {
     "name": "stdout",
     "output_type": "stream",
     "text": [
      "Embarked 0.003\n",
      "Cabin_categorical 0.781\n"
     ]
    }
   ],
   "source": [
    "# check categorical variables with missing data\n",
    "for col in categorical:\n",
    "    if X_train[col].isna().mean()>0:\n",
    "        print(col, round(X_train[col].isna().mean(),3))"
   ]
  },
  {
   "cell_type": "markdown",
   "metadata": {},
   "source": [
    "- Embarked imputed by most **frequent category**, because NA is low\n",
    "\n",
    "\n",
    "\n",
    "- Cabin_categorical imputed by **'Missing'**, because NA is high"
   ]
  },
  {
   "cell_type": "code",
   "execution_count": 82,
   "metadata": {},
   "outputs": [],
   "source": [
    "# add label indicating 'Missing' to Cabin categorical\n",
    "# replace by most frequent label in Embarked\n",
    "\n",
    "for df in [X_train, X_test, submission]:\n",
    "    df[\"Embarked\"].fillna(X_train[\"Embarked\"].mode()[0], inplace=True)\n",
    "    df[\"Cabin_categorical\"].fillna(\"Missing\", inplace=True)"
   ]
  },
  {
   "cell_type": "code",
   "execution_count": 83,
   "metadata": {},
   "outputs": [
    {
     "data": {
      "text/plain": [
       "0"
      ]
     },
     "execution_count": 83,
     "metadata": {},
     "output_type": "execute_result"
    }
   ],
   "source": [
    "X_train[categorical].isna().sum().sum()"
   ]
  },
  {
   "cell_type": "code",
   "execution_count": 84,
   "metadata": {},
   "outputs": [
    {
     "data": {
      "text/plain": [
       "0"
      ]
     },
     "execution_count": 84,
     "metadata": {},
     "output_type": "execute_result"
    }
   ],
   "source": [
    "X_test[categorical].isna().sum().sum()"
   ]
  },
  {
   "cell_type": "code",
   "execution_count": 85,
   "metadata": {},
   "outputs": [
    {
     "data": {
      "text/plain": [
       "0"
      ]
     },
     "execution_count": 85,
     "metadata": {},
     "output_type": "execute_result"
    }
   ],
   "source": [
    "submission[categorical].isna().sum().sum()"
   ]
  },
  {
   "cell_type": "markdown",
   "metadata": {},
   "source": [
    "**Good.No missing values found in any dataset**"
   ]
  },
  {
   "cell_type": "markdown",
   "metadata": {},
   "source": [
    "### Deal with Outliers and distibutions in Numerical variables"
   ]
  },
  {
   "cell_type": "markdown",
   "metadata": {},
   "source": [
    "#### Top coding(Capping) for Age"
   ]
  },
  {
   "cell_type": "code",
   "execution_count": 86,
   "metadata": {},
   "outputs": [],
   "source": [
    "def top_code(df, variable, top):\n",
    "    return np.where(df[variable] > top, top, df[variable])\n",
    "\n",
    "for df in [X_train, X_test, submission]:\n",
    "    df[\"Age\"] = top_code(df, \"Age\", 73)"
   ]
  },
  {
   "cell_type": "code",
   "execution_count": 87,
   "metadata": {},
   "outputs": [
    {
     "name": "stdout",
     "output_type": "stream",
     "text": [
      "Fare max value is: 73.0\n"
     ]
    }
   ],
   "source": [
    "print(var, \"max value is:\", X_train[\"Age\"].max())"
   ]
  },
  {
   "cell_type": "markdown",
   "metadata": {},
   "source": [
    "#### discretisation for Ticket_numerical and Fare"
   ]
  },
  {
   "cell_type": "code",
   "execution_count": 88,
   "metadata": {},
   "outputs": [
    {
     "data": {
      "text/html": [
       "<div>\n",
       "<style scoped>\n",
       "    .dataframe tbody tr th:only-of-type {\n",
       "        vertical-align: middle;\n",
       "    }\n",
       "\n",
       "    .dataframe tbody tr th {\n",
       "        vertical-align: top;\n",
       "    }\n",
       "\n",
       "    .dataframe thead th {\n",
       "        text-align: right;\n",
       "    }\n",
       "</style>\n",
       "<table border=\"1\" class=\"dataframe\">\n",
       "  <thead>\n",
       "    <tr style=\"text-align: right;\">\n",
       "      <th></th>\n",
       "      <th>depth</th>\n",
       "      <th>roc_mean</th>\n",
       "      <th>roc_std</th>\n",
       "    </tr>\n",
       "  </thead>\n",
       "  <tbody>\n",
       "    <tr>\n",
       "      <th>0</th>\n",
       "      <td>1</td>\n",
       "      <td>0.646</td>\n",
       "      <td>0.059</td>\n",
       "    </tr>\n",
       "    <tr>\n",
       "      <th>1</th>\n",
       "      <td>2</td>\n",
       "      <td>0.671</td>\n",
       "      <td>0.057</td>\n",
       "    </tr>\n",
       "    <tr>\n",
       "      <th>2</th>\n",
       "      <td>3</td>\n",
       "      <td>0.679</td>\n",
       "      <td>0.066</td>\n",
       "    </tr>\n",
       "  </tbody>\n",
       "</table>\n",
       "</div>"
      ],
      "text/plain": [
       "   depth  roc_mean  roc_std\n",
       "0      1     0.646    0.059\n",
       "1      2     0.671    0.057\n",
       "2      3     0.679    0.066"
      ]
     },
     "execution_count": 88,
     "metadata": {},
     "output_type": "execute_result"
    }
   ],
   "source": [
    "# for tree Discretisation\n",
    "from sklearn.tree import DecisionTreeRegressor\n",
    "# for cross validation\n",
    "from sklearn.model_selection import cross_val_score\n",
    "\n",
    "score_mean_roc = [] # store the roc_auc\n",
    "score_std_roc = [] # store the standard deviation of roc_auc\n",
    "for tree_depth in [1,2,3]:\n",
    "    tree_model = DecisionTreeRegressor(max_depth=tree_depth)\n",
    "\n",
    "    # train the model using 10 fold cross validation\n",
    "    scores = cross_val_score(tree_model, X_train[[\"Ticket_numerical\",\"Fare\"]], y_train, cv=10, scoring=\"roc_auc\")\n",
    "    score_mean_roc.append(np.mean(scores))\n",
    "    score_std_roc.append(np.std(scores))\n",
    "        \n",
    "result_disc = pd.concat([pd.Series([1,2,3]), pd.Series(score_mean_roc), pd.Series(score_std_roc)], axis=1)\n",
    "result_disc.columns = [\"depth\", \"roc_mean\", \"roc_std\"]\n",
    "result_disc"
   ]
  },
  {
   "cell_type": "code",
   "execution_count": 89,
   "metadata": {},
   "outputs": [],
   "source": [
    "def tree_Discretisation(var):\n",
    "    depth = 2\n",
    "    # transform the variables using the tree Model\n",
    "    tree_model = DecisionTreeRegressor(max_depth=depth)\n",
    "    tree_model.fit(X_train[var].to_frame(),X_train[\"Survived\"])\n",
    "    X_train[var] = tree_model.predict(X_train[var].to_frame())\n",
    "    X_test[var] = tree_model.predict(X_test[var].to_frame())\n",
    "    submission[var] = tree_model.predict(submission[var].to_frame())"
   ]
  },
  {
   "cell_type": "code",
   "execution_count": 90,
   "metadata": {},
   "outputs": [],
   "source": [
    "for var in [\"Ticket_numerical\",\"Fare\"]:\n",
    "    tree_Discretisation(var)"
   ]
  },
  {
   "cell_type": "code",
   "execution_count": 91,
   "metadata": {},
   "outputs": [
    {
     "data": {
      "text/html": [
       "<div>\n",
       "<style scoped>\n",
       "    .dataframe tbody tr th:only-of-type {\n",
       "        vertical-align: middle;\n",
       "    }\n",
       "\n",
       "    .dataframe tbody tr th {\n",
       "        vertical-align: top;\n",
       "    }\n",
       "\n",
       "    .dataframe thead th {\n",
       "        text-align: right;\n",
       "    }\n",
       "</style>\n",
       "<table border=\"1\" class=\"dataframe\">\n",
       "  <thead>\n",
       "    <tr style=\"text-align: right;\">\n",
       "      <th></th>\n",
       "      <th>Ticket_numerical</th>\n",
       "      <th>Fare</th>\n",
       "    </tr>\n",
       "  </thead>\n",
       "  <tbody>\n",
       "    <tr>\n",
       "      <th>329</th>\n",
       "      <td>0.535</td>\n",
       "      <td>0.459</td>\n",
       "    </tr>\n",
       "    <tr>\n",
       "      <th>749</th>\n",
       "      <td>0.196</td>\n",
       "      <td>0.243</td>\n",
       "    </tr>\n",
       "    <tr>\n",
       "      <th>203</th>\n",
       "      <td>0.293</td>\n",
       "      <td>0.243</td>\n",
       "    </tr>\n",
       "    <tr>\n",
       "      <th>421</th>\n",
       "      <td>0.535</td>\n",
       "      <td>0.243</td>\n",
       "    </tr>\n",
       "    <tr>\n",
       "      <th>97</th>\n",
       "      <td>0.535</td>\n",
       "      <td>0.459</td>\n",
       "    </tr>\n",
       "  </tbody>\n",
       "</table>\n",
       "</div>"
      ],
      "text/plain": [
       "     Ticket_numerical  Fare\n",
       "329             0.535 0.459\n",
       "749             0.196 0.243\n",
       "203             0.293 0.243\n",
       "421             0.535 0.243\n",
       "97              0.535 0.459"
      ]
     },
     "execution_count": 91,
     "metadata": {},
     "output_type": "execute_result"
    }
   ],
   "source": [
    "X_train[[\"Ticket_numerical\",\"Fare\"]].head()"
   ]
  },
  {
   "cell_type": "code",
   "execution_count": 92,
   "metadata": {},
   "outputs": [
    {
     "name": "stdout",
     "output_type": "stream",
     "text": [
      "Ticket_numerical 4\n",
      "Fare 4\n"
     ]
    }
   ],
   "source": [
    "# check how many different bins among our new continuous variables\n",
    "for var in [\"Ticket_numerical\",\"Fare\"]:\n",
    "    print(var, len(X_train[var].unique()))"
   ]
  },
  {
   "cell_type": "code",
   "execution_count": 93,
   "metadata": {},
   "outputs": [
    {
     "data": {
      "image/png": "[encoded data removed]",
      "text/plain": [
       "<Figure size 864x432 with 1 Axes>"
      ]
     },
     "metadata": {
      "needs_background": "light"
     },
     "output_type": "display_data"
    }
   ],
   "source": [
    "t1 = X_train.groupby([\"Fare\"])[\"Fare\"].count() / len(X_train)\n",
    "t2 = X_test.groupby([\"Fare\"])[\"Fare\"].count() / len(X_test)\n",
    "t3 = submission.groupby([\"Fare\"])[\"Fare\"].count() / len(submission)\n",
    "\n",
    "temp = pd.concat([t1,t2,t3], axis=1)\n",
    "temp.columns = [\"train\", \"test\", \"submission\"]\n",
    "temp.plot.bar(figsize=(12,6))\n",
    "plt.show()"
   ]
  },
  {
   "cell_type": "code",
   "execution_count": 94,
   "metadata": {},
   "outputs": [
    {
     "data": {
      "image/png": "[encoded data removed]",
      "text/plain": [
       "<Figure size 864x432 with 1 Axes>"
      ]
     },
     "metadata": {
      "needs_background": "light"
     },
     "output_type": "display_data"
    }
   ],
   "source": [
    "t1 = X_train.groupby([\"Ticket_numerical\"])[\"Ticket_numerical\"].count() / len(X_train)\n",
    "t2 = X_test.groupby([\"Ticket_numerical\"])[\"Ticket_numerical\"].count() / len(X_test)\n",
    "t3 = submission.groupby([\"Ticket_numerical\"])[\"Ticket_numerical\"].count() / len(submission)\n",
    "\n",
    "temp = pd.concat([t1,t2,t3], axis=1)\n",
    "temp.columns = [\"train\", \"test\", \"submission\"]\n",
    "temp.plot.bar(figsize=(12,6))\n",
    "plt.show()"
   ]
  },
  {
   "cell_type": "markdown",
   "metadata": {},
   "source": [
    "#### check missing values if  by random"
   ]
  },
  {
   "cell_type": "code",
   "execution_count": 95,
   "metadata": {},
   "outputs": [
    {
     "data": {
      "text/plain": [
       "0"
      ]
     },
     "execution_count": 95,
     "metadata": {},
     "output_type": "execute_result"
    }
   ],
   "source": [
    "X_train.isna().sum().sum()"
   ]
  },
  {
   "cell_type": "code",
   "execution_count": 96,
   "metadata": {},
   "outputs": [
    {
     "data": {
      "text/plain": [
       "0"
      ]
     },
     "execution_count": 96,
     "metadata": {},
     "output_type": "execute_result"
    }
   ],
   "source": [
    "X_test.isna().sum().sum()"
   ]
  },
  {
   "cell_type": "code",
   "execution_count": 97,
   "metadata": {},
   "outputs": [
    {
     "data": {
      "text/plain": [
       "0"
      ]
     },
     "execution_count": 97,
     "metadata": {},
     "output_type": "execute_result"
    }
   ],
   "source": [
    "submission.isna().sum().sum()"
   ]
  },
  {
   "cell_type": "markdown",
   "metadata": {},
   "source": [
    "### deal with rare labels in categorical and discrete variables"
   ]
  },
  {
   "cell_type": "code",
   "execution_count": 98,
   "metadata": {},
   "outputs": [],
   "source": [
    "def rare_imputation(variable, which=\"Rare\"):    \n",
    "    # find frequent labels\n",
    "    temp = X_train.groupby([variable])[variable].count()/ len(X_train)\n",
    "    frequent_cat = [x for x in temp.loc[temp > 0.01].index.values]\n",
    "    \n",
    "    # create new variables, with Rare labels imputed\n",
    "    if which==\"Frequent\":\n",
    "        # find the most frequent category\n",
    "        mode_label = X_train.groupby(variable)[variable].count().sort_values().tail(1).index.values[0]\n",
    "        X_train[variable] = np.where(X_train[variable].isin(frequent_cat), X_train[variable], mode_label)\n",
    "        X_test[variable] = np.where(X_test[variable].isin(frequent_cat), X_test[variable], mode_label)\n",
    "        submission[variable] = np.where(submission[variable].isin(frequent_cat), submission[variable], mode_label)\n",
    "    \n",
    "    else:\n",
    "        X_train[variable] = np.where(X_train[variable].isin(frequent_cat), X_train[variable], \"Rare\")\n",
    "        X_test[variable] = np.where(X_test[variable].isin(frequent_cat), X_test[variable], \"Rare\")\n",
    "        submission[variable] = np.where(submission[variable].isin(frequent_cat), submission[variable], \"Rare\")"
   ]
  },
  {
   "cell_type": "markdown",
   "metadata": {},
   "source": [
    "**summary about rare labels**\n",
    "\n",
    "- Family_size: most frequency\n",
    "\n",
    "    \n",
    "- SibSp: most frequency\n",
    "\n",
    "    \n",
    "- Parch: most frequency\n",
    "\n",
    "    \n",
    "- Cabin_categorical: most frequency\n",
    "\n",
    "    \n",
    "- Ticket_categorical :Rare"
   ]
  },
  {
   "cell_type": "code",
   "execution_count": 99,
   "metadata": {},
   "outputs": [],
   "source": [
    "rare_imputation(\"Family_size\", \"Frequent\")\n",
    "rare_imputation(\"SibSp\", \"Frequent\")\n",
    "rare_imputation(\"Parch\", \"Frequent\")\n",
    "rare_imputation(\"Cabin_categorical\", \"Frequent\")"
   ]
  },
  {
   "cell_type": "code",
   "execution_count": 100,
   "metadata": {},
   "outputs": [],
   "source": [
    "rare_imputation(\"Ticket_categorical\", \"Rare\")"
   ]
  },
  {
   "cell_type": "code",
   "execution_count": 101,
   "metadata": {},
   "outputs": [
    {
     "name": "stdout",
     "output_type": "stream",
     "text": [
      "Sex\n",
      "female   0.353\n",
      "male     0.647\n",
      "Name: Sex, dtype: float64\n",
      "\n",
      "Embarked\n",
      "C   0.180\n",
      "Q   0.094\n",
      "S   0.726\n",
      "Name: Embarked, dtype: float64\n",
      "\n",
      "Cabin_categorical\n",
      "A         0.017\n",
      "B         0.046\n",
      "C         0.063\n",
      "D         0.037\n",
      "E         0.037\n",
      "F         0.013\n",
      "Missing   0.788\n",
      "Name: Cabin_categorical, dtype: float64\n",
      "\n",
      "Ticket_categorical\n",
      "A         0.034\n",
      "CA        0.048\n",
      "NAN       0.728\n",
      "PC        0.066\n",
      "Rare      0.063\n",
      "SCPARIS   0.013\n",
      "SOTONOQ   0.014\n",
      "STONO     0.024\n",
      "WC        0.011\n",
      "Name: Ticket_categorical, dtype: float64\n",
      "\n",
      "Title\n",
      "Master   0.042\n",
      "Miss     0.209\n",
      "Mr       0.588\n",
      "Mrs      0.139\n",
      "Other    0.021\n",
      "Name: Title, dtype: float64\n",
      "\n",
      "Pclass\n",
      "1   0.233\n",
      "2   0.209\n",
      "3   0.558\n",
      "Name: Pclass, dtype: float64\n",
      "\n",
      "SibSp\n",
      "0   0.701\n",
      "1   0.235\n",
      "2   0.031\n",
      "3   0.018\n",
      "4   0.015\n",
      "Name: SibSp, dtype: float64\n",
      "\n",
      "Parch\n",
      "0   0.781\n",
      "1   0.131\n",
      "2   0.088\n",
      "Name: Parch, dtype: float64\n",
      "\n",
      "Family_size\n",
      "1   0.622\n",
      "2   0.180\n",
      "3   0.119\n",
      "4   0.029\n",
      "5   0.015\n",
      "6   0.022\n",
      "7   0.011\n",
      "Name: Family_size, dtype: float64\n",
      "\n"
     ]
    }
   ],
   "source": [
    "for cols in categorical + discrete:\n",
    "    print(X_train.groupby(cols)[cols].count() / len(X_train))\n",
    "    print()"
   ]
  },
  {
   "cell_type": "code",
   "execution_count": 102,
   "metadata": {},
   "outputs": [
    {
     "name": "stdout",
     "output_type": "stream",
     "text": [
      "Sex\n",
      "female   0.364\n",
      "male     0.636\n",
      "Name: Sex, dtype: float64\n",
      "\n",
      "Embarked\n",
      "C   0.244\n",
      "Q   0.110\n",
      "S   0.646\n",
      "Name: Embarked, dtype: float64\n",
      "\n",
      "Cabin_categorical\n",
      "A         0.017\n",
      "B         0.043\n",
      "C         0.084\n",
      "D         0.031\n",
      "E         0.022\n",
      "F         0.019\n",
      "Missing   0.785\n",
      "Name: Cabin_categorical, dtype: float64\n",
      "\n",
      "Ticket_categorical\n",
      "A         0.026\n",
      "CA        0.065\n",
      "NAN       0.708\n",
      "PC        0.077\n",
      "Rare      0.065\n",
      "SCPARIS   0.019\n",
      "SOTONOQ   0.022\n",
      "STONO     0.007\n",
      "WC        0.012\n",
      "Name: Ticket_categorical, dtype: float64\n",
      "\n",
      "Title\n",
      "Master   0.050\n",
      "Miss     0.187\n",
      "Mr       0.574\n",
      "Mrs      0.172\n",
      "Other    0.017\n",
      "Name: Title, dtype: float64\n",
      "\n",
      "Pclass\n",
      "1   0.256\n",
      "2   0.222\n",
      "3   0.522\n",
      "Name: Pclass, dtype: float64\n",
      "\n",
      "SibSp\n",
      "0   0.684\n",
      "1   0.263\n",
      "2   0.033\n",
      "3   0.010\n",
      "4   0.010\n",
      "Name: SibSp, dtype: float64\n",
      "\n",
      "Parch\n",
      "0   0.797\n",
      "1   0.124\n",
      "2   0.079\n",
      "Name: Parch, dtype: float64\n",
      "\n",
      "Family_size\n",
      "1   0.620\n",
      "2   0.177\n",
      "3   0.136\n",
      "4   0.033\n",
      "5   0.017\n",
      "6   0.007\n",
      "7   0.010\n",
      "Name: Family_size, dtype: float64\n",
      "\n"
     ]
    }
   ],
   "source": [
    "for cols in categorical + discrete:\n",
    "    print(submission.groupby(cols)[cols].count() / len(submission))\n",
    "    print()"
   ]
  },
  {
   "cell_type": "markdown",
   "metadata": {},
   "source": [
    "### Encode categorical variables"
   ]
  },
  {
   "cell_type": "code",
   "execution_count": 103,
   "metadata": {},
   "outputs": [
    {
     "data": {
      "text/plain": [
       "['Sex', 'Embarked', 'Cabin_categorical', 'Ticket_categorical', 'Title']"
      ]
     },
     "execution_count": 103,
     "metadata": {},
     "output_type": "execute_result"
    }
   ],
   "source": [
    "categorical"
   ]
  },
  {
   "cell_type": "markdown",
   "metadata": {},
   "source": [
    "- Sex: one hot encoding\n",
    "\n",
    "    \n",
    "- Remaining variables: replace by risk probability"
   ]
  },
  {
   "cell_type": "code",
   "execution_count": 104,
   "metadata": {},
   "outputs": [],
   "source": [
    "for df in [X_train, X_test, submission]:\n",
    "    df[\"Sex\"]  = pd.get_dummies(df[\"Sex\"], drop_first=True)"
   ]
  },
  {
   "cell_type": "code",
   "execution_count": 105,
   "metadata": {},
   "outputs": [],
   "source": [
    "def encode_categorical_variables(var, target):\n",
    "        # make label to risk dictionary\n",
    "        ordered_labels = X_train.groupby([var])[target].mean().to_dict()\n",
    "        \n",
    "        # encode variables\n",
    "        X_train[var] = X_train[var].map(ordered_labels)\n",
    "        X_test[var] = X_test[var].map(ordered_labels)\n",
    "        submission[var] = submission[var].map(ordered_labels)"
   ]
  },
  {
   "cell_type": "code",
   "execution_count": 106,
   "metadata": {},
   "outputs": [],
   "source": [
    "# encode labels in categorical vars\n",
    "for var in categorical:\n",
    "    encode_categorical_variables(var, \"Survived\")"
   ]
  },
  {
   "cell_type": "code",
   "execution_count": 107,
   "metadata": {},
   "outputs": [
    {
     "data": {
      "text/html": [
       "<div>\n",
       "<style scoped>\n",
       "    .dataframe tbody tr th:only-of-type {\n",
       "        vertical-align: middle;\n",
       "    }\n",
       "\n",
       "    .dataframe tbody tr th {\n",
       "        vertical-align: top;\n",
       "    }\n",
       "\n",
       "    .dataframe thead th {\n",
       "        text-align: right;\n",
       "    }\n",
       "</style>\n",
       "<table border=\"1\" class=\"dataframe\">\n",
       "  <thead>\n",
       "    <tr style=\"text-align: right;\">\n",
       "      <th></th>\n",
       "      <th>PassengerId</th>\n",
       "      <th>Survived</th>\n",
       "      <th>Pclass</th>\n",
       "      <th>Sex</th>\n",
       "      <th>Age</th>\n",
       "      <th>SibSp</th>\n",
       "      <th>Parch</th>\n",
       "      <th>Fare</th>\n",
       "      <th>Embarked</th>\n",
       "      <th>Cabin_numerical</th>\n",
       "      <th>Cabin_categorical</th>\n",
       "      <th>Ticket_numerical</th>\n",
       "      <th>Ticket_categorical</th>\n",
       "      <th>Title</th>\n",
       "      <th>Family_size</th>\n",
       "      <th>Age_NA</th>\n",
       "      <th>Cabin_numerical_NA</th>\n",
       "    </tr>\n",
       "  </thead>\n",
       "  <tbody>\n",
       "    <tr>\n",
       "      <th>329</th>\n",
       "      <td>330</td>\n",
       "      <td>1</td>\n",
       "      <td>1</td>\n",
       "      <td>0.745</td>\n",
       "      <td>16.000</td>\n",
       "      <td>0</td>\n",
       "      <td>1</td>\n",
       "      <td>0.459</td>\n",
       "      <td>0.547</td>\n",
       "      <td>18.000</td>\n",
       "      <td>0.758</td>\n",
       "      <td>0.535</td>\n",
       "      <td>0.394</td>\n",
       "      <td>0.705</td>\n",
       "      <td>2</td>\n",
       "      <td>0</td>\n",
       "      <td>0</td>\n",
       "    </tr>\n",
       "    <tr>\n",
       "      <th>749</th>\n",
       "      <td>750</td>\n",
       "      <td>0</td>\n",
       "      <td>3</td>\n",
       "      <td>0.195</td>\n",
       "      <td>31.000</td>\n",
       "      <td>0</td>\n",
       "      <td>0</td>\n",
       "      <td>0.243</td>\n",
       "      <td>0.403</td>\n",
       "      <td>40.000</td>\n",
       "      <td>0.312</td>\n",
       "      <td>0.196</td>\n",
       "      <td>0.394</td>\n",
       "      <td>0.165</td>\n",
       "      <td>1</td>\n",
       "      <td>0</td>\n",
       "      <td>1</td>\n",
       "    </tr>\n",
       "    <tr>\n",
       "      <th>203</th>\n",
       "      <td>204</td>\n",
       "      <td>0</td>\n",
       "      <td>3</td>\n",
       "      <td>0.195</td>\n",
       "      <td>45.500</td>\n",
       "      <td>0</td>\n",
       "      <td>0</td>\n",
       "      <td>0.243</td>\n",
       "      <td>0.547</td>\n",
       "      <td>40.000</td>\n",
       "      <td>0.312</td>\n",
       "      <td>0.293</td>\n",
       "      <td>0.394</td>\n",
       "      <td>0.165</td>\n",
       "      <td>1</td>\n",
       "      <td>0</td>\n",
       "      <td>1</td>\n",
       "    </tr>\n",
       "    <tr>\n",
       "      <th>421</th>\n",
       "      <td>422</td>\n",
       "      <td>0</td>\n",
       "      <td>3</td>\n",
       "      <td>0.195</td>\n",
       "      <td>21.000</td>\n",
       "      <td>0</td>\n",
       "      <td>0</td>\n",
       "      <td>0.243</td>\n",
       "      <td>0.403</td>\n",
       "      <td>40.000</td>\n",
       "      <td>0.312</td>\n",
       "      <td>0.535</td>\n",
       "      <td>0.083</td>\n",
       "      <td>0.165</td>\n",
       "      <td>1</td>\n",
       "      <td>0</td>\n",
       "      <td>1</td>\n",
       "    </tr>\n",
       "    <tr>\n",
       "      <th>97</th>\n",
       "      <td>98</td>\n",
       "      <td>1</td>\n",
       "      <td>1</td>\n",
       "      <td>0.195</td>\n",
       "      <td>23.000</td>\n",
       "      <td>0</td>\n",
       "      <td>1</td>\n",
       "      <td>0.459</td>\n",
       "      <td>0.547</td>\n",
       "      <td>10.000</td>\n",
       "      <td>0.769</td>\n",
       "      <td>0.535</td>\n",
       "      <td>0.596</td>\n",
       "      <td>0.165</td>\n",
       "      <td>2</td>\n",
       "      <td>0</td>\n",
       "      <td>0</td>\n",
       "    </tr>\n",
       "  </tbody>\n",
       "</table>\n",
       "</div>"
      ],
      "text/plain": [
       "     PassengerId  Survived  Pclass   Sex    Age  SibSp  Parch  Fare  Embarked  \\\n",
       "329          330         1       1 0.745 16.000      0      1 0.459     0.547   \n",
       "749          750         0       3 0.195 31.000      0      0 0.243     0.403   \n",
       "203          204         0       3 0.195 45.500      0      0 0.243     0.547   \n",
       "421          422         0       3 0.195 21.000      0      0 0.243     0.403   \n",
       "97            98         1       1 0.195 23.000      0      1 0.459     0.547   \n",
       "\n",
       "     Cabin_numerical  Cabin_categorical  Ticket_numerical  Ticket_categorical  \\\n",
       "329           18.000              0.758             0.535               0.394   \n",
       "749           40.000              0.312             0.196               0.394   \n",
       "203           40.000              0.312             0.293               0.394   \n",
       "421           40.000              0.312             0.535               0.083   \n",
       "97            10.000              0.769             0.535               0.596   \n",
       "\n",
       "     Title  Family_size  Age_NA  Cabin_numerical_NA  \n",
       "329  0.705            2       0                   0  \n",
       "749  0.165            1       0                   1  \n",
       "203  0.165            1       0                   1  \n",
       "421  0.165            1       0                   1  \n",
       "97   0.165            2       0                   0  "
      ]
     },
     "execution_count": 107,
     "metadata": {},
     "output_type": "execute_result"
    }
   ],
   "source": [
    "X_train.head()"
   ]
  },
  {
   "cell_type": "code",
   "execution_count": 108,
   "metadata": {},
   "outputs": [
    {
     "data": {
      "text/html": [
       "<div>\n",
       "<style scoped>\n",
       "    .dataframe tbody tr th:only-of-type {\n",
       "        vertical-align: middle;\n",
       "    }\n",
       "\n",
       "    .dataframe tbody tr th {\n",
       "        vertical-align: top;\n",
       "    }\n",
       "\n",
       "    .dataframe thead th {\n",
       "        text-align: right;\n",
       "    }\n",
       "</style>\n",
       "<table border=\"1\" class=\"dataframe\">\n",
       "  <thead>\n",
       "    <tr style=\"text-align: right;\">\n",
       "      <th></th>\n",
       "      <th>PassengerId</th>\n",
       "      <th>Survived</th>\n",
       "      <th>Pclass</th>\n",
       "      <th>Sex</th>\n",
       "      <th>Age</th>\n",
       "      <th>SibSp</th>\n",
       "      <th>Parch</th>\n",
       "      <th>Fare</th>\n",
       "      <th>Embarked</th>\n",
       "      <th>Cabin_numerical</th>\n",
       "      <th>Cabin_categorical</th>\n",
       "      <th>Ticket_numerical</th>\n",
       "      <th>Ticket_categorical</th>\n",
       "      <th>Title</th>\n",
       "      <th>Family_size</th>\n",
       "      <th>Age_NA</th>\n",
       "      <th>Cabin_numerical_NA</th>\n",
       "    </tr>\n",
       "  </thead>\n",
       "  <tbody>\n",
       "    <tr>\n",
       "      <th>count</th>\n",
       "      <td>712.000</td>\n",
       "      <td>712.000</td>\n",
       "      <td>712.000</td>\n",
       "      <td>712.000</td>\n",
       "      <td>712.000</td>\n",
       "      <td>712.000</td>\n",
       "      <td>712.000</td>\n",
       "      <td>712.000</td>\n",
       "      <td>712.000</td>\n",
       "      <td>712.000</td>\n",
       "      <td>712.000</td>\n",
       "      <td>712.000</td>\n",
       "      <td>712.000</td>\n",
       "      <td>712.000</td>\n",
       "      <td>712.000</td>\n",
       "      <td>712.000</td>\n",
       "      <td>712.000</td>\n",
       "    </tr>\n",
       "    <tr>\n",
       "      <th>mean</th>\n",
       "      <td>444.399</td>\n",
       "      <td>0.389</td>\n",
       "      <td>2.324</td>\n",
       "      <td>0.389</td>\n",
       "      <td>29.441</td>\n",
       "      <td>0.413</td>\n",
       "      <td>0.308</td>\n",
       "      <td>0.389</td>\n",
       "      <td>0.389</td>\n",
       "      <td>42.206</td>\n",
       "      <td>0.389</td>\n",
       "      <td>0.389</td>\n",
       "      <td>0.389</td>\n",
       "      <td>0.389</td>\n",
       "      <td>1.749</td>\n",
       "      <td>0.208</td>\n",
       "      <td>0.785</td>\n",
       "    </tr>\n",
       "    <tr>\n",
       "      <th>std</th>\n",
       "      <td>255.981</td>\n",
       "      <td>0.488</td>\n",
       "      <td>0.829</td>\n",
       "      <td>0.263</td>\n",
       "      <td>12.721</td>\n",
       "      <td>0.775</td>\n",
       "      <td>0.625</td>\n",
       "      <td>0.174</td>\n",
       "      <td>0.076</td>\n",
       "      <td>17.306</td>\n",
       "      <td>0.156</td>\n",
       "      <td>0.143</td>\n",
       "      <td>0.087</td>\n",
       "      <td>0.275</td>\n",
       "      <td>1.256</td>\n",
       "      <td>0.406</td>\n",
       "      <td>0.411</td>\n",
       "    </tr>\n",
       "    <tr>\n",
       "      <th>min</th>\n",
       "      <td>1.000</td>\n",
       "      <td>0.000</td>\n",
       "      <td>1.000</td>\n",
       "      <td>0.195</td>\n",
       "      <td>0.420</td>\n",
       "      <td>0.000</td>\n",
       "      <td>0.000</td>\n",
       "      <td>0.054</td>\n",
       "      <td>0.348</td>\n",
       "      <td>2.000</td>\n",
       "      <td>0.312</td>\n",
       "      <td>0.196</td>\n",
       "      <td>0.083</td>\n",
       "      <td>0.165</td>\n",
       "      <td>1.000</td>\n",
       "      <td>0.000</td>\n",
       "      <td>0.000</td>\n",
       "    </tr>\n",
       "    <tr>\n",
       "      <th>25%</th>\n",
       "      <td>223.750</td>\n",
       "      <td>0.000</td>\n",
       "      <td>2.000</td>\n",
       "      <td>0.195</td>\n",
       "      <td>22.000</td>\n",
       "      <td>0.000</td>\n",
       "      <td>0.000</td>\n",
       "      <td>0.243</td>\n",
       "      <td>0.348</td>\n",
       "      <td>40.000</td>\n",
       "      <td>0.312</td>\n",
       "      <td>0.293</td>\n",
       "      <td>0.394</td>\n",
       "      <td>0.165</td>\n",
       "      <td>1.000</td>\n",
       "      <td>0.000</td>\n",
       "      <td>1.000</td>\n",
       "    </tr>\n",
       "    <tr>\n",
       "      <th>50%</th>\n",
       "      <td>444.500</td>\n",
       "      <td>0.000</td>\n",
       "      <td>3.000</td>\n",
       "      <td>0.195</td>\n",
       "      <td>28.000</td>\n",
       "      <td>0.000</td>\n",
       "      <td>0.000</td>\n",
       "      <td>0.459</td>\n",
       "      <td>0.348</td>\n",
       "      <td>40.000</td>\n",
       "      <td>0.312</td>\n",
       "      <td>0.345</td>\n",
       "      <td>0.394</td>\n",
       "      <td>0.165</td>\n",
       "      <td>1.000</td>\n",
       "      <td>0.000</td>\n",
       "      <td>1.000</td>\n",
       "    </tr>\n",
       "    <tr>\n",
       "      <th>75%</th>\n",
       "      <td>658.250</td>\n",
       "      <td>1.000</td>\n",
       "      <td>3.000</td>\n",
       "      <td>0.745</td>\n",
       "      <td>35.000</td>\n",
       "      <td>1.000</td>\n",
       "      <td>0.000</td>\n",
       "      <td>0.459</td>\n",
       "      <td>0.403</td>\n",
       "      <td>40.000</td>\n",
       "      <td>0.312</td>\n",
       "      <td>0.535</td>\n",
       "      <td>0.394</td>\n",
       "      <td>0.705</td>\n",
       "      <td>2.000</td>\n",
       "      <td>0.000</td>\n",
       "      <td>1.000</td>\n",
       "    </tr>\n",
       "    <tr>\n",
       "      <th>max</th>\n",
       "      <td>891.000</td>\n",
       "      <td>1.000</td>\n",
       "      <td>3.000</td>\n",
       "      <td>0.745</td>\n",
       "      <td>73.000</td>\n",
       "      <td>4.000</td>\n",
       "      <td>2.000</td>\n",
       "      <td>0.741</td>\n",
       "      <td>0.547</td>\n",
       "      <td>148.000</td>\n",
       "      <td>0.778</td>\n",
       "      <td>0.535</td>\n",
       "      <td>0.596</td>\n",
       "      <td>0.798</td>\n",
       "      <td>7.000</td>\n",
       "      <td>1.000</td>\n",
       "      <td>1.000</td>\n",
       "    </tr>\n",
       "  </tbody>\n",
       "</table>\n",
       "</div>"
      ],
      "text/plain": [
       "       PassengerId  Survived  Pclass     Sex     Age   SibSp   Parch    Fare  \\\n",
       "count      712.000   712.000 712.000 712.000 712.000 712.000 712.000 712.000   \n",
       "mean       444.399     0.389   2.324   0.389  29.441   0.413   0.308   0.389   \n",
       "std        255.981     0.488   0.829   0.263  12.721   0.775   0.625   0.174   \n",
       "min          1.000     0.000   1.000   0.195   0.420   0.000   0.000   0.054   \n",
       "25%        223.750     0.000   2.000   0.195  22.000   0.000   0.000   0.243   \n",
       "50%        444.500     0.000   3.000   0.195  28.000   0.000   0.000   0.459   \n",
       "75%        658.250     1.000   3.000   0.745  35.000   1.000   0.000   0.459   \n",
       "max        891.000     1.000   3.000   0.745  73.000   4.000   2.000   0.741   \n",
       "\n",
       "       Embarked  Cabin_numerical  Cabin_categorical  Ticket_numerical  \\\n",
       "count   712.000          712.000            712.000           712.000   \n",
       "mean      0.389           42.206              0.389             0.389   \n",
       "std       0.076           17.306              0.156             0.143   \n",
       "min       0.348            2.000              0.312             0.196   \n",
       "25%       0.348           40.000              0.312             0.293   \n",
       "50%       0.348           40.000              0.312             0.345   \n",
       "75%       0.403           40.000              0.312             0.535   \n",
       "max       0.547          148.000              0.778             0.535   \n",
       "\n",
       "       Ticket_categorical   Title  Family_size  Age_NA  Cabin_numerical_NA  \n",
       "count             712.000 712.000      712.000 712.000             712.000  \n",
       "mean                0.389   0.389        1.749   0.208               0.785  \n",
       "std                 0.087   0.275        1.256   0.406               0.411  \n",
       "min                 0.083   0.165        1.000   0.000               0.000  \n",
       "25%                 0.394   0.165        1.000   0.000               1.000  \n",
       "50%                 0.394   0.165        1.000   0.000               1.000  \n",
       "75%                 0.394   0.705        2.000   0.000               1.000  \n",
       "max                 0.596   0.798        7.000   1.000               1.000  "
      ]
     },
     "execution_count": 108,
     "metadata": {},
     "output_type": "execute_result"
    }
   ],
   "source": [
    "X_train.describe()"
   ]
  },
  {
   "cell_type": "code",
   "execution_count": 109,
   "metadata": {},
   "outputs": [
    {
     "data": {
      "text/plain": [
       "['Pclass',\n",
       " 'Sex',\n",
       " 'Age',\n",
       " 'SibSp',\n",
       " 'Parch',\n",
       " 'Fare',\n",
       " 'Embarked',\n",
       " 'Cabin_numerical',\n",
       " 'Cabin_categorical',\n",
       " 'Ticket_numerical',\n",
       " 'Ticket_categorical',\n",
       " 'Title',\n",
       " 'Family_size',\n",
       " 'Age_NA',\n",
       " 'Cabin_numerical_NA']"
      ]
     },
     "execution_count": 109,
     "metadata": {},
     "output_type": "execute_result"
    }
   ],
   "source": [
    "training_vars = [var for var in X_train.columns if var not in [\"PassengerId\", \"Survived\"]]\n",
    "training_vars"
   ]
  },
  {
   "cell_type": "markdown",
   "metadata": {},
   "source": [
    "### Feature Scaling"
   ]
  },
  {
   "cell_type": "code",
   "execution_count": 110,
   "metadata": {},
   "outputs": [],
   "source": [
    "from sklearn.preprocessing import MinMaxScaler\n",
    "\n",
    "scaler = MinMaxScaler()\n",
    "scaler.fit(X_train[training_vars])\n",
    "\n",
    "X_train[training_vars] = scaler.transform(X_train[training_vars])\n",
    "X_test[training_vars] = scaler.transform(X_test[training_vars])\n",
    "submission[training_vars] = scaler.transform(submission[training_vars])"
   ]
  },
  {
   "cell_type": "code",
   "execution_count": 111,
   "metadata": {},
   "outputs": [
    {
     "data": {
      "text/html": [
       "<div>\n",
       "<style scoped>\n",
       "    .dataframe tbody tr th:only-of-type {\n",
       "        vertical-align: middle;\n",
       "    }\n",
       "\n",
       "    .dataframe tbody tr th {\n",
       "        vertical-align: top;\n",
       "    }\n",
       "\n",
       "    .dataframe thead th {\n",
       "        text-align: right;\n",
       "    }\n",
       "</style>\n",
       "<table border=\"1\" class=\"dataframe\">\n",
       "  <thead>\n",
       "    <tr style=\"text-align: right;\">\n",
       "      <th></th>\n",
       "      <th>PassengerId</th>\n",
       "      <th>Survived</th>\n",
       "      <th>Pclass</th>\n",
       "      <th>Sex</th>\n",
       "      <th>Age</th>\n",
       "      <th>SibSp</th>\n",
       "      <th>Parch</th>\n",
       "      <th>Fare</th>\n",
       "      <th>Embarked</th>\n",
       "      <th>Cabin_numerical</th>\n",
       "      <th>Cabin_categorical</th>\n",
       "      <th>Ticket_numerical</th>\n",
       "      <th>Ticket_categorical</th>\n",
       "      <th>Title</th>\n",
       "      <th>Family_size</th>\n",
       "      <th>Age_NA</th>\n",
       "      <th>Cabin_numerical_NA</th>\n",
       "    </tr>\n",
       "  </thead>\n",
       "  <tbody>\n",
       "    <tr>\n",
       "      <th>329</th>\n",
       "      <td>330</td>\n",
       "      <td>1</td>\n",
       "      <td>0.000</td>\n",
       "      <td>1.000</td>\n",
       "      <td>0.215</td>\n",
       "      <td>0.000</td>\n",
       "      <td>0.500</td>\n",
       "      <td>0.589</td>\n",
       "      <td>1.000</td>\n",
       "      <td>0.110</td>\n",
       "      <td>0.957</td>\n",
       "      <td>1.000</td>\n",
       "      <td>0.606</td>\n",
       "      <td>0.853</td>\n",
       "      <td>0.167</td>\n",
       "      <td>0.000</td>\n",
       "      <td>0.000</td>\n",
       "    </tr>\n",
       "    <tr>\n",
       "      <th>749</th>\n",
       "      <td>750</td>\n",
       "      <td>0</td>\n",
       "      <td>1.000</td>\n",
       "      <td>0.000</td>\n",
       "      <td>0.421</td>\n",
       "      <td>0.000</td>\n",
       "      <td>0.000</td>\n",
       "      <td>0.276</td>\n",
       "      <td>0.276</td>\n",
       "      <td>0.260</td>\n",
       "      <td>0.000</td>\n",
       "      <td>0.000</td>\n",
       "      <td>0.606</td>\n",
       "      <td>0.000</td>\n",
       "      <td>0.000</td>\n",
       "      <td>0.000</td>\n",
       "      <td>1.000</td>\n",
       "    </tr>\n",
       "    <tr>\n",
       "      <th>203</th>\n",
       "      <td>204</td>\n",
       "      <td>0</td>\n",
       "      <td>1.000</td>\n",
       "      <td>0.000</td>\n",
       "      <td>0.621</td>\n",
       "      <td>0.000</td>\n",
       "      <td>0.000</td>\n",
       "      <td>0.276</td>\n",
       "      <td>1.000</td>\n",
       "      <td>0.260</td>\n",
       "      <td>0.000</td>\n",
       "      <td>0.286</td>\n",
       "      <td>0.606</td>\n",
       "      <td>0.000</td>\n",
       "      <td>0.000</td>\n",
       "      <td>0.000</td>\n",
       "      <td>1.000</td>\n",
       "    </tr>\n",
       "    <tr>\n",
       "      <th>421</th>\n",
       "      <td>422</td>\n",
       "      <td>0</td>\n",
       "      <td>1.000</td>\n",
       "      <td>0.000</td>\n",
       "      <td>0.284</td>\n",
       "      <td>0.000</td>\n",
       "      <td>0.000</td>\n",
       "      <td>0.276</td>\n",
       "      <td>0.276</td>\n",
       "      <td>0.260</td>\n",
       "      <td>0.000</td>\n",
       "      <td>1.000</td>\n",
       "      <td>0.000</td>\n",
       "      <td>0.000</td>\n",
       "      <td>0.000</td>\n",
       "      <td>0.000</td>\n",
       "      <td>1.000</td>\n",
       "    </tr>\n",
       "    <tr>\n",
       "      <th>97</th>\n",
       "      <td>98</td>\n",
       "      <td>1</td>\n",
       "      <td>0.000</td>\n",
       "      <td>0.000</td>\n",
       "      <td>0.311</td>\n",
       "      <td>0.000</td>\n",
       "      <td>0.500</td>\n",
       "      <td>0.589</td>\n",
       "      <td>1.000</td>\n",
       "      <td>0.055</td>\n",
       "      <td>0.982</td>\n",
       "      <td>1.000</td>\n",
       "      <td>1.000</td>\n",
       "      <td>0.000</td>\n",
       "      <td>0.167</td>\n",
       "      <td>0.000</td>\n",
       "      <td>0.000</td>\n",
       "    </tr>\n",
       "  </tbody>\n",
       "</table>\n",
       "</div>"
      ],
      "text/plain": [
       "     PassengerId  Survived  Pclass   Sex   Age  SibSp  Parch  Fare  Embarked  \\\n",
       "329          330         1   0.000 1.000 0.215  0.000  0.500 0.589     1.000   \n",
       "749          750         0   1.000 0.000 0.421  0.000  0.000 0.276     0.276   \n",
       "203          204         0   1.000 0.000 0.621  0.000  0.000 0.276     1.000   \n",
       "421          422         0   1.000 0.000 0.284  0.000  0.000 0.276     0.276   \n",
       "97            98         1   0.000 0.000 0.311  0.000  0.500 0.589     1.000   \n",
       "\n",
       "     Cabin_numerical  Cabin_categorical  Ticket_numerical  Ticket_categorical  \\\n",
       "329            0.110              0.957             1.000               0.606   \n",
       "749            0.260              0.000             0.000               0.606   \n",
       "203            0.260              0.000             0.286               0.606   \n",
       "421            0.260              0.000             1.000               0.000   \n",
       "97             0.055              0.982             1.000               1.000   \n",
       "\n",
       "     Title  Family_size  Age_NA  Cabin_numerical_NA  \n",
       "329  0.853        0.167   0.000               0.000  \n",
       "749  0.000        0.000   0.000               1.000  \n",
       "203  0.000        0.000   0.000               1.000  \n",
       "421  0.000        0.000   0.000               1.000  \n",
       "97   0.000        0.167   0.000               0.000  "
      ]
     },
     "execution_count": 111,
     "metadata": {},
     "output_type": "execute_result"
    }
   ],
   "source": [
    "X_train.head()"
   ]
  },
  {
   "cell_type": "markdown",
   "metadata": {},
   "source": [
    "### Build Models"
   ]
  },
  {
   "cell_type": "code",
   "execution_count": 112,
   "metadata": {},
   "outputs": [],
   "source": [
    "# to build the models\n",
    "from sklearn.linear_model import LogisticRegression\n",
    "from sklearn.discriminant_analysis import LinearDiscriminantAnalysis\n",
    "from catboost import CatBoostClassifier\n",
    "from sklearn.svm import SVC\n",
    "from sklearn.ensemble import RandomForestClassifier,GradientBoostingClassifier\n",
    "\n",
    "models = []\n",
    "models.append((\"LR\", LogisticRegression()))\n",
    "models.append((\"LDA\", LinearDiscriminantAnalysis()))\n",
    "models.append((\"SVC\", SVC()))\n",
    "models.append((\"RF\", RandomForestClassifier()))\n",
    "models.append((\"GB\", GradientBoostingClassifier()))"
   ]
  },
  {
   "cell_type": "markdown",
   "metadata": {},
   "source": [
    "### Model Evaluation"
   ]
  },
  {
   "cell_type": "code",
   "execution_count": 113,
   "metadata": {},
   "outputs": [
    {
     "name": "stdout",
     "output_type": "stream",
     "text": [
      "LR: 0.810 (0.035)\n",
      "LDA: 0.807 (0.045)\n",
      "SVC: 0.817 (0.035)\n",
      "RF: 0.804 (0.040)\n",
      "GB: 0.808 (0.056)\n"
     ]
    }
   ],
   "source": [
    "from sklearn.model_selection import RepeatedStratifiedKFold\n",
    "from sklearn.model_selection import cross_val_score\n",
    "\n",
    "results = []\n",
    "names = []\n",
    "for name, model in models:\n",
    "    kfold=RepeatedStratifiedKFold(n_splits=10,n_repeats=3,random_state=123)\n",
    "    cv_results= cross_val_score(model,X_train[training_vars], y_train,cv=kfold,scoring=\"accuracy\")\n",
    "    results.append(cv_results)\n",
    "    names.append(name)\n",
    "    print(\"%s: %.3f (%.3f)\" % (name,np.mean(cv_results),np.std(cv_results)))   "
   ]
  },
  {
   "cell_type": "code",
   "execution_count": 114,
   "metadata": {},
   "outputs": [
    {
     "data": {
      "image/png": "[encoded data removed]",
      "text/plain": [
       "<Figure size 576x360 with 1 Axes>"
      ]
     },
     "metadata": {
      "needs_background": "light"
     },
     "output_type": "display_data"
    }
   ],
   "source": [
    "fig = plt.figure(figsize=(8,5))\n",
    "fig.suptitle(\"Algorithm Comparison\")\n",
    "ax = fig.add_subplot(111)\n",
    "plt.boxplot(results)\n",
    "ax.set_xticklabels(names)\n",
    "plt.show()"
   ]
  },
  {
   "cell_type": "markdown",
   "metadata": {},
   "source": [
    "- Final model is Support Vector Classifier"
   ]
  },
  {
   "cell_type": "markdown",
   "metadata": {},
   "source": [
    "### Hyperparameter Tuning"
   ]
  },
  {
   "cell_type": "code",
   "execution_count": 115,
   "metadata": {},
   "outputs": [
    {
     "name": "stdout",
     "output_type": "stream",
     "text": [
      "Best accuracy: 0.820246 using {'C': 0.9, 'kernel': 'rbf'}\n",
      "\n",
      "0.783685 (0.034154) with: {'C': 0.1, 'kernel': 'linear'}\n",
      "0.817410 (0.020811) with: {'C': 0.1, 'kernel': 'poly'}\n",
      "0.794894 (0.032507) with: {'C': 0.1, 'kernel': 'rbf'}\n",
      "0.783646 (0.031961) with: {'C': 0.1, 'kernel': 'sigmoid'}\n",
      "0.789300 (0.038431) with: {'C': 0.5, 'kernel': 'linear'}\n",
      "0.811776 (0.033534) with: {'C': 0.5, 'kernel': 'poly'}\n",
      "0.806201 (0.033024) with: {'C': 0.5, 'kernel': 'rbf'}\n",
      "0.665649 (0.043158) with: {'C': 0.5, 'kernel': 'sigmoid'}\n",
      "0.793525 (0.039415) with: {'C': 0.7, 'kernel': 'linear'}\n",
      "0.813165 (0.030434) with: {'C': 0.7, 'kernel': 'poly'}\n",
      "0.817430 (0.037676) with: {'C': 0.7, 'kernel': 'rbf'}\n",
      "0.661424 (0.041677) with: {'C': 0.7, 'kernel': 'sigmoid'}\n",
      "0.797731 (0.035830) with: {'C': 0.9, 'kernel': 'linear'}\n",
      "0.813165 (0.030434) with: {'C': 0.9, 'kernel': 'poly'}\n",
      "0.820246 (0.034213) with: {'C': 0.9, 'kernel': 'rbf'}\n",
      "0.658607 (0.042019) with: {'C': 0.9, 'kernel': 'sigmoid'}\n",
      "0.799120 (0.036898) with: {'C': 1.0, 'kernel': 'linear'}\n",
      "0.811776 (0.030432) with: {'C': 1.0, 'kernel': 'poly'}\n",
      "0.820227 (0.033760) with: {'C': 1.0, 'kernel': 'rbf'}\n",
      "0.658588 (0.045328) with: {'C': 1.0, 'kernel': 'sigmoid'}\n",
      "0.797711 (0.038574) with: {'C': 1.3, 'kernel': 'linear'}\n",
      "0.813185 (0.026090) with: {'C': 1.3, 'kernel': 'poly'}\n",
      "0.820227 (0.027976) with: {'C': 1.3, 'kernel': 'rbf'}\n",
      "0.655790 (0.044917) with: {'C': 1.3, 'kernel': 'sigmoid'}\n",
      "0.796303 (0.039129) with: {'C': 1.5, 'kernel': 'linear'}\n",
      "0.813185 (0.024522) with: {'C': 1.5, 'kernel': 'poly'}\n",
      "0.817410 (0.028168) with: {'C': 1.5, 'kernel': 'rbf'}\n",
      "0.654362 (0.046762) with: {'C': 1.5, 'kernel': 'sigmoid'}\n",
      "0.794894 (0.039123) with: {'C': 1.7, 'kernel': 'linear'}\n",
      "0.813185 (0.026840) with: {'C': 1.7, 'kernel': 'poly'}\n",
      "0.817410 (0.028864) with: {'C': 1.7, 'kernel': 'rbf'}\n",
      "0.657179 (0.045420) with: {'C': 1.7, 'kernel': 'sigmoid'}\n",
      "0.796283 (0.039230) with: {'C': 2, 'kernel': 'linear'}\n",
      "0.810387 (0.025408) with: {'C': 2, 'kernel': 'poly'}\n",
      "0.818799 (0.029912) with: {'C': 2, 'kernel': 'rbf'}\n",
      "0.655771 (0.047180) with: {'C': 2, 'kernel': 'sigmoid'}\n",
      "0.800509 (0.039966) with: {'C': 3, 'kernel': 'linear'}\n",
      "0.816021 (0.025447) with: {'C': 3, 'kernel': 'poly'}\n",
      "0.820207 (0.030120) with: {'C': 3, 'kernel': 'rbf'}\n",
      "0.654382 (0.049531) with: {'C': 3, 'kernel': 'sigmoid'}\n",
      "0.799100 (0.038078) with: {'C': 4, 'kernel': 'linear'}\n",
      "0.818818 (0.024750) with: {'C': 4, 'kernel': 'poly'}\n",
      "0.818779 (0.027210) with: {'C': 4, 'kernel': 'rbf'}\n",
      "0.657179 (0.049194) with: {'C': 4, 'kernel': 'sigmoid'}\n",
      "0.799120 (0.036928) with: {'C': 5, 'kernel': 'linear'}\n",
      "0.820188 (0.028907) with: {'C': 5, 'kernel': 'poly'}\n",
      "0.818799 (0.022364) with: {'C': 5, 'kernel': 'rbf'}\n",
      "0.654382 (0.047486) with: {'C': 5, 'kernel': 'sigmoid'}\n"
     ]
    }
   ],
   "source": [
    "from sklearn.model_selection import StratifiedKFold\n",
    "from sklearn.model_selection import GridSearchCV\n",
    "\n",
    "c_values = [0.1,0.5, 0.7, 0.9, 1.0, 1.3, 1.5, 1.7, 2, 3, 4, 5]\n",
    "kernel_values = [\"linear\", \"poly\" ,\"rbf\", \"sigmoid\"]\n",
    "param_grid = dict(C=c_values, kernel=kernel_values)\n",
    "\n",
    "model = SVC()\n",
    "kfold = StratifiedKFold(n_splits=10, random_state=123)\n",
    "grid = GridSearchCV(estimator=model, param_grid=param_grid, scoring=\"accuracy\", cv=kfold)\n",
    "grid_result = grid.fit(X_train[training_vars], y_train)\n",
    "print(\"Best accuracy: %f using %s\" % (grid_result.best_score_, grid_result.best_params_))\n",
    "\n",
    "print()\n",
    "means = grid_result.cv_results_[\"mean_test_score\"]\n",
    "stds = grid_result.cv_results_[\"std_test_score\"]\n",
    "params = grid_result.cv_results_[\"params\"]\n",
    "for mean, stdev, param in zip(means, stds, params):\n",
    "    print(\"%f (%f) with: %r\" % (mean, stdev, param))"
   ]
  },
  {
   "cell_type": "code",
   "execution_count": 116,
   "metadata": {},
   "outputs": [
    {
     "name": "stdout",
     "output_type": "stream",
     "text": [
      "0.8770949720670391\n",
      "\n",
      "              precision    recall  f1-score   support\n",
      "\n",
      "           0       0.87      0.95      0.91       114\n",
      "           1       0.89      0.75      0.82        65\n",
      "\n",
      "    accuracy                           0.88       179\n",
      "   macro avg       0.88      0.85      0.86       179\n",
      "weighted avg       0.88      0.88      0.87       179\n",
      "\n"
     ]
    }
   ],
   "source": [
    "from sklearn.metrics import roc_auc_score\n",
    "\n",
    "from sklearn.metrics import accuracy_score\n",
    "from sklearn.metrics import classification_report\n",
    "\n",
    "\n",
    "svc_model = SVC(random_state=123,kernel=\"rbf\",C=0.9,probability=True)\n",
    "svc_model.fit(X_train[training_vars], y_train)\n",
    "\n",
    "pred = svc_model.predict(X_test[training_vars])\n",
    "print(accuracy_score(y_test, pred))\n",
    "print()\n",
    "print(classification_report(y_test, pred))"
   ]
  },
  {
   "cell_type": "code",
   "execution_count": 117,
   "metadata": {},
   "outputs": [
    {
     "name": "stdout",
     "output_type": "stream",
     "text": [
      "SVC train roc-auc: 0.8856965019295406\n"
     ]
    }
   ],
   "source": [
    "pred_train = svc_model.predict_proba(X_train[training_vars])\n",
    "print(\"SVC train roc-auc: {}\".format(roc_auc_score(y_train, pred_train[:,1])))"
   ]
  },
  {
   "cell_type": "code",
   "execution_count": 118,
   "metadata": {},
   "outputs": [
    {
     "name": "stdout",
     "output_type": "stream",
     "text": [
      "SVC test roc-auc: 0.8781376518218624\n"
     ]
    }
   ],
   "source": [
    "pred_test = svc_model.predict_proba(X_test[training_vars])\n",
    "print(\"SVC test roc-auc: {}\".format(roc_auc_score(y_test, pred_test[:,1])))"
   ]
  },
  {
   "cell_type": "code",
   "execution_count": 119,
   "metadata": {},
   "outputs": [],
   "source": [
    "final_pred = svc_model.predict(submission[training_vars])"
   ]
  },
  {
   "cell_type": "code",
   "execution_count": 120,
   "metadata": {},
   "outputs": [
    {
     "data": {
      "text/html": [
       "<div>\n",
       "<style scoped>\n",
       "    .dataframe tbody tr th:only-of-type {\n",
       "        vertical-align: middle;\n",
       "    }\n",
       "\n",
       "    .dataframe tbody tr th {\n",
       "        vertical-align: top;\n",
       "    }\n",
       "\n",
       "    .dataframe thead th {\n",
       "        text-align: right;\n",
       "    }\n",
       "</style>\n",
       "<table border=\"1\" class=\"dataframe\">\n",
       "  <thead>\n",
       "    <tr style=\"text-align: right;\">\n",
       "      <th></th>\n",
       "      <th>PassengerId</th>\n",
       "      <th>Survived</th>\n",
       "    </tr>\n",
       "  </thead>\n",
       "  <tbody>\n",
       "    <tr>\n",
       "      <th>0</th>\n",
       "      <td>892</td>\n",
       "      <td>0</td>\n",
       "    </tr>\n",
       "    <tr>\n",
       "      <th>1</th>\n",
       "      <td>893</td>\n",
       "      <td>0</td>\n",
       "    </tr>\n",
       "    <tr>\n",
       "      <th>2</th>\n",
       "      <td>894</td>\n",
       "      <td>0</td>\n",
       "    </tr>\n",
       "    <tr>\n",
       "      <th>3</th>\n",
       "      <td>895</td>\n",
       "      <td>0</td>\n",
       "    </tr>\n",
       "    <tr>\n",
       "      <th>4</th>\n",
       "      <td>896</td>\n",
       "      <td>1</td>\n",
       "    </tr>\n",
       "  </tbody>\n",
       "</table>\n",
       "</div>"
      ],
      "text/plain": [
       "   PassengerId  Survived\n",
       "0          892         0\n",
       "1          893         0\n",
       "2          894         0\n",
       "3          895         0\n",
       "4          896         1"
      ]
     },
     "execution_count": 120,
     "metadata": {},
     "output_type": "execute_result"
    }
   ],
   "source": [
    "temp = pd.concat([submission[\"PassengerId\"], pd.Series(final_pred)], axis=1)\n",
    "temp.columns = [\"PassengerId\", \"Survived\"]\n",
    "temp.head()"
   ]
  },
  {
   "cell_type": "markdown",
   "metadata": {},
   "source": [
    "# End of Code"
   ]
  }
 ],
 "metadata": {
  "kernelspec": {
   "display_name": "Python 3",
   "language": "python",
   "name": "python3"
  },
  "language_info": {
   "codemirror_mode": {
    "name": "ipython",
    "version": 3
   },
   "file_extension": ".py",
   "mimetype": "text/x-python",
   "name": "python",
   "nbconvert_exporter": "python",
   "pygments_lexer": "ipython3",
   "version": "3.8.5"
  }
 },
 "nbformat": 4,
 "nbformat_minor": 4
}
